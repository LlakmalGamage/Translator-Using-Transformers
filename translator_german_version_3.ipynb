{
  "cells": [
    {
      "cell_type": "markdown",
      "metadata": {
        "id": "view-in-github",
        "colab_type": "text"
      },
      "source": [
        "<a href=\"https://colab.research.google.com/github/LlakmalGamage/Translator-Using-Transformers/blob/main/translator_german_version_3.ipynb\" target=\"_parent\"><img src=\"https://colab.research.google.com/assets/colab-badge.svg\" alt=\"Open In Colab\"/></a>"
      ]
    },
    {
      "cell_type": "markdown",
      "metadata": {
        "id": "N0ZG1jv6QSn3"
      },
      "source": [
        "# Data Loading and Preprocessing"
      ]
    },
    {
      "cell_type": "code",
      "execution_count": 8,
      "metadata": {
        "id": "d0wtq3B3QSn6"
      },
      "outputs": [],
      "source": [
        "import pandas as pd\n",
        "german_file_path=\"data_german.csv\"\n"
      ]
    },
    {
      "cell_type": "code",
      "execution_count": 9,
      "metadata": {
        "id": "SbXphiEpQSn7"
      },
      "outputs": [],
      "source": [
        "df1=pd.read_csv(german_file_path)"
      ]
    },
    {
      "cell_type": "code",
      "execution_count": 10,
      "metadata": {
        "id": "pnHOhO8BQSn7"
      },
      "outputs": [],
      "source": [
        "import random\n",
        "from tensorflow import keras\n",
        "from tensorflow.keras import layers\n",
        "import tensorflow as tf\n",
        "import string\n",
        "import re\n",
        "import csv\n",
        "\n"
      ]
    },
    {
      "cell_type": "code",
      "execution_count": 11,
      "metadata": {
        "colab": {
          "base_uri": "https://localhost:8080/",
          "height": 676
        },
        "id": "04BL8ZnsQSn7",
        "outputId": "0aa94e15-7ab2-470e-c401-b84bc8ef37a3"
      },
      "outputs": [
        {
          "output_type": "execute_result",
          "data": {
            "text/plain": [
              "   English                    German\n",
              "0      Go.                      Geh.\n",
              "1      Hi.                    Hallo!\n",
              "2      Hi.                Grüß Gott!\n",
              "3     Run!                     Lauf!\n",
              "4     Run.                     Lauf!\n",
              "5     Wow!               Potzdonner!\n",
              "6     Wow!             Donnerwetter!\n",
              "7    Fire!                    Feuer!\n",
              "8    Help!                    Hilfe!\n",
              "9    Help!                  Zu Hülf!\n",
              "10   Stop!                    Stopp!\n",
              "11   Wait!                    Warte!\n",
              "12   Wait.                    Warte.\n",
              "13  Begin.                  Fang an.\n",
              "14  Go on.              Mach weiter.\n",
              "15  Hello!                    Hallo!\n",
              "16  Hurry!               Beeil dich!\n",
              "17  Hurry!                  Schnell!\n",
              "18  I hid.      Ich versteckte mich.\n",
              "19  I hid.  Ich habe mich versteckt."
            ],
            "text/html": [
              "\n",
              "  <div id=\"df-79261805-8ce7-4be9-b4d8-4ff560d0695e\" class=\"colab-df-container\">\n",
              "    <div>\n",
              "<style scoped>\n",
              "    .dataframe tbody tr th:only-of-type {\n",
              "        vertical-align: middle;\n",
              "    }\n",
              "\n",
              "    .dataframe tbody tr th {\n",
              "        vertical-align: top;\n",
              "    }\n",
              "\n",
              "    .dataframe thead th {\n",
              "        text-align: right;\n",
              "    }\n",
              "</style>\n",
              "<table border=\"1\" class=\"dataframe\">\n",
              "  <thead>\n",
              "    <tr style=\"text-align: right;\">\n",
              "      <th></th>\n",
              "      <th>English</th>\n",
              "      <th>German</th>\n",
              "    </tr>\n",
              "  </thead>\n",
              "  <tbody>\n",
              "    <tr>\n",
              "      <th>0</th>\n",
              "      <td>Go.</td>\n",
              "      <td>Geh.</td>\n",
              "    </tr>\n",
              "    <tr>\n",
              "      <th>1</th>\n",
              "      <td>Hi.</td>\n",
              "      <td>Hallo!</td>\n",
              "    </tr>\n",
              "    <tr>\n",
              "      <th>2</th>\n",
              "      <td>Hi.</td>\n",
              "      <td>Grüß Gott!</td>\n",
              "    </tr>\n",
              "    <tr>\n",
              "      <th>3</th>\n",
              "      <td>Run!</td>\n",
              "      <td>Lauf!</td>\n",
              "    </tr>\n",
              "    <tr>\n",
              "      <th>4</th>\n",
              "      <td>Run.</td>\n",
              "      <td>Lauf!</td>\n",
              "    </tr>\n",
              "    <tr>\n",
              "      <th>5</th>\n",
              "      <td>Wow!</td>\n",
              "      <td>Potzdonner!</td>\n",
              "    </tr>\n",
              "    <tr>\n",
              "      <th>6</th>\n",
              "      <td>Wow!</td>\n",
              "      <td>Donnerwetter!</td>\n",
              "    </tr>\n",
              "    <tr>\n",
              "      <th>7</th>\n",
              "      <td>Fire!</td>\n",
              "      <td>Feuer!</td>\n",
              "    </tr>\n",
              "    <tr>\n",
              "      <th>8</th>\n",
              "      <td>Help!</td>\n",
              "      <td>Hilfe!</td>\n",
              "    </tr>\n",
              "    <tr>\n",
              "      <th>9</th>\n",
              "      <td>Help!</td>\n",
              "      <td>Zu Hülf!</td>\n",
              "    </tr>\n",
              "    <tr>\n",
              "      <th>10</th>\n",
              "      <td>Stop!</td>\n",
              "      <td>Stopp!</td>\n",
              "    </tr>\n",
              "    <tr>\n",
              "      <th>11</th>\n",
              "      <td>Wait!</td>\n",
              "      <td>Warte!</td>\n",
              "    </tr>\n",
              "    <tr>\n",
              "      <th>12</th>\n",
              "      <td>Wait.</td>\n",
              "      <td>Warte.</td>\n",
              "    </tr>\n",
              "    <tr>\n",
              "      <th>13</th>\n",
              "      <td>Begin.</td>\n",
              "      <td>Fang an.</td>\n",
              "    </tr>\n",
              "    <tr>\n",
              "      <th>14</th>\n",
              "      <td>Go on.</td>\n",
              "      <td>Mach weiter.</td>\n",
              "    </tr>\n",
              "    <tr>\n",
              "      <th>15</th>\n",
              "      <td>Hello!</td>\n",
              "      <td>Hallo!</td>\n",
              "    </tr>\n",
              "    <tr>\n",
              "      <th>16</th>\n",
              "      <td>Hurry!</td>\n",
              "      <td>Beeil dich!</td>\n",
              "    </tr>\n",
              "    <tr>\n",
              "      <th>17</th>\n",
              "      <td>Hurry!</td>\n",
              "      <td>Schnell!</td>\n",
              "    </tr>\n",
              "    <tr>\n",
              "      <th>18</th>\n",
              "      <td>I hid.</td>\n",
              "      <td>Ich versteckte mich.</td>\n",
              "    </tr>\n",
              "    <tr>\n",
              "      <th>19</th>\n",
              "      <td>I hid.</td>\n",
              "      <td>Ich habe mich versteckt.</td>\n",
              "    </tr>\n",
              "  </tbody>\n",
              "</table>\n",
              "</div>\n",
              "    <div class=\"colab-df-buttons\">\n",
              "\n",
              "  <div class=\"colab-df-container\">\n",
              "    <button class=\"colab-df-convert\" onclick=\"convertToInteractive('df-79261805-8ce7-4be9-b4d8-4ff560d0695e')\"\n",
              "            title=\"Convert this dataframe to an interactive table.\"\n",
              "            style=\"display:none;\">\n",
              "\n",
              "  <svg xmlns=\"http://www.w3.org/2000/svg\" height=\"24px\" viewBox=\"0 -960 960 960\">\n",
              "    <path d=\"M120-120v-720h720v720H120Zm60-500h600v-160H180v160Zm220 220h160v-160H400v160Zm0 220h160v-160H400v160ZM180-400h160v-160H180v160Zm440 0h160v-160H620v160ZM180-180h160v-160H180v160Zm440 0h160v-160H620v160Z\"/>\n",
              "  </svg>\n",
              "    </button>\n",
              "\n",
              "  <style>\n",
              "    .colab-df-container {\n",
              "      display:flex;\n",
              "      gap: 12px;\n",
              "    }\n",
              "\n",
              "    .colab-df-convert {\n",
              "      background-color: #E8F0FE;\n",
              "      border: none;\n",
              "      border-radius: 50%;\n",
              "      cursor: pointer;\n",
              "      display: none;\n",
              "      fill: #1967D2;\n",
              "      height: 32px;\n",
              "      padding: 0 0 0 0;\n",
              "      width: 32px;\n",
              "    }\n",
              "\n",
              "    .colab-df-convert:hover {\n",
              "      background-color: #E2EBFA;\n",
              "      box-shadow: 0px 1px 2px rgba(60, 64, 67, 0.3), 0px 1px 3px 1px rgba(60, 64, 67, 0.15);\n",
              "      fill: #174EA6;\n",
              "    }\n",
              "\n",
              "    .colab-df-buttons div {\n",
              "      margin-bottom: 4px;\n",
              "    }\n",
              "\n",
              "    [theme=dark] .colab-df-convert {\n",
              "      background-color: #3B4455;\n",
              "      fill: #D2E3FC;\n",
              "    }\n",
              "\n",
              "    [theme=dark] .colab-df-convert:hover {\n",
              "      background-color: #434B5C;\n",
              "      box-shadow: 0px 1px 3px 1px rgba(0, 0, 0, 0.15);\n",
              "      filter: drop-shadow(0px 1px 2px rgba(0, 0, 0, 0.3));\n",
              "      fill: #FFFFFF;\n",
              "    }\n",
              "  </style>\n",
              "\n",
              "    <script>\n",
              "      const buttonEl =\n",
              "        document.querySelector('#df-79261805-8ce7-4be9-b4d8-4ff560d0695e button.colab-df-convert');\n",
              "      buttonEl.style.display =\n",
              "        google.colab.kernel.accessAllowed ? 'block' : 'none';\n",
              "\n",
              "      async function convertToInteractive(key) {\n",
              "        const element = document.querySelector('#df-79261805-8ce7-4be9-b4d8-4ff560d0695e');\n",
              "        const dataTable =\n",
              "          await google.colab.kernel.invokeFunction('convertToInteractive',\n",
              "                                                    [key], {});\n",
              "        if (!dataTable) return;\n",
              "\n",
              "        const docLinkHtml = 'Like what you see? Visit the ' +\n",
              "          '<a target=\"_blank\" href=https://colab.research.google.com/notebooks/data_table.ipynb>data table notebook</a>'\n",
              "          + ' to learn more about interactive tables.';\n",
              "        element.innerHTML = '';\n",
              "        dataTable['output_type'] = 'display_data';\n",
              "        await google.colab.output.renderOutput(dataTable, element);\n",
              "        const docLink = document.createElement('div');\n",
              "        docLink.innerHTML = docLinkHtml;\n",
              "        element.appendChild(docLink);\n",
              "      }\n",
              "    </script>\n",
              "  </div>\n",
              "\n",
              "\n",
              "<div id=\"df-210f37e4-289d-40fe-aa0c-5b5a35d60309\">\n",
              "  <button class=\"colab-df-quickchart\" onclick=\"quickchart('df-210f37e4-289d-40fe-aa0c-5b5a35d60309')\"\n",
              "            title=\"Suggest charts\"\n",
              "            style=\"display:none;\">\n",
              "\n",
              "<svg xmlns=\"http://www.w3.org/2000/svg\" height=\"24px\"viewBox=\"0 0 24 24\"\n",
              "     width=\"24px\">\n",
              "    <g>\n",
              "        <path d=\"M19 3H5c-1.1 0-2 .9-2 2v14c0 1.1.9 2 2 2h14c1.1 0 2-.9 2-2V5c0-1.1-.9-2-2-2zM9 17H7v-7h2v7zm4 0h-2V7h2v10zm4 0h-2v-4h2v4z\"/>\n",
              "    </g>\n",
              "</svg>\n",
              "  </button>\n",
              "\n",
              "<style>\n",
              "  .colab-df-quickchart {\n",
              "      --bg-color: #E8F0FE;\n",
              "      --fill-color: #1967D2;\n",
              "      --hover-bg-color: #E2EBFA;\n",
              "      --hover-fill-color: #174EA6;\n",
              "      --disabled-fill-color: #AAA;\n",
              "      --disabled-bg-color: #DDD;\n",
              "  }\n",
              "\n",
              "  [theme=dark] .colab-df-quickchart {\n",
              "      --bg-color: #3B4455;\n",
              "      --fill-color: #D2E3FC;\n",
              "      --hover-bg-color: #434B5C;\n",
              "      --hover-fill-color: #FFFFFF;\n",
              "      --disabled-bg-color: #3B4455;\n",
              "      --disabled-fill-color: #666;\n",
              "  }\n",
              "\n",
              "  .colab-df-quickchart {\n",
              "    background-color: var(--bg-color);\n",
              "    border: none;\n",
              "    border-radius: 50%;\n",
              "    cursor: pointer;\n",
              "    display: none;\n",
              "    fill: var(--fill-color);\n",
              "    height: 32px;\n",
              "    padding: 0;\n",
              "    width: 32px;\n",
              "  }\n",
              "\n",
              "  .colab-df-quickchart:hover {\n",
              "    background-color: var(--hover-bg-color);\n",
              "    box-shadow: 0 1px 2px rgba(60, 64, 67, 0.3), 0 1px 3px 1px rgba(60, 64, 67, 0.15);\n",
              "    fill: var(--button-hover-fill-color);\n",
              "  }\n",
              "\n",
              "  .colab-df-quickchart-complete:disabled,\n",
              "  .colab-df-quickchart-complete:disabled:hover {\n",
              "    background-color: var(--disabled-bg-color);\n",
              "    fill: var(--disabled-fill-color);\n",
              "    box-shadow: none;\n",
              "  }\n",
              "\n",
              "  .colab-df-spinner {\n",
              "    border: 2px solid var(--fill-color);\n",
              "    border-color: transparent;\n",
              "    border-bottom-color: var(--fill-color);\n",
              "    animation:\n",
              "      spin 1s steps(1) infinite;\n",
              "  }\n",
              "\n",
              "  @keyframes spin {\n",
              "    0% {\n",
              "      border-color: transparent;\n",
              "      border-bottom-color: var(--fill-color);\n",
              "      border-left-color: var(--fill-color);\n",
              "    }\n",
              "    20% {\n",
              "      border-color: transparent;\n",
              "      border-left-color: var(--fill-color);\n",
              "      border-top-color: var(--fill-color);\n",
              "    }\n",
              "    30% {\n",
              "      border-color: transparent;\n",
              "      border-left-color: var(--fill-color);\n",
              "      border-top-color: var(--fill-color);\n",
              "      border-right-color: var(--fill-color);\n",
              "    }\n",
              "    40% {\n",
              "      border-color: transparent;\n",
              "      border-right-color: var(--fill-color);\n",
              "      border-top-color: var(--fill-color);\n",
              "    }\n",
              "    60% {\n",
              "      border-color: transparent;\n",
              "      border-right-color: var(--fill-color);\n",
              "    }\n",
              "    80% {\n",
              "      border-color: transparent;\n",
              "      border-right-color: var(--fill-color);\n",
              "      border-bottom-color: var(--fill-color);\n",
              "    }\n",
              "    90% {\n",
              "      border-color: transparent;\n",
              "      border-bottom-color: var(--fill-color);\n",
              "    }\n",
              "  }\n",
              "</style>\n",
              "\n",
              "  <script>\n",
              "    async function quickchart(key) {\n",
              "      const quickchartButtonEl =\n",
              "        document.querySelector('#' + key + ' button');\n",
              "      quickchartButtonEl.disabled = true;  // To prevent multiple clicks.\n",
              "      quickchartButtonEl.classList.add('colab-df-spinner');\n",
              "      try {\n",
              "        const charts = await google.colab.kernel.invokeFunction(\n",
              "            'suggestCharts', [key], {});\n",
              "      } catch (error) {\n",
              "        console.error('Error during call to suggestCharts:', error);\n",
              "      }\n",
              "      quickchartButtonEl.classList.remove('colab-df-spinner');\n",
              "      quickchartButtonEl.classList.add('colab-df-quickchart-complete');\n",
              "    }\n",
              "    (() => {\n",
              "      let quickchartButtonEl =\n",
              "        document.querySelector('#df-210f37e4-289d-40fe-aa0c-5b5a35d60309 button');\n",
              "      quickchartButtonEl.style.display =\n",
              "        google.colab.kernel.accessAllowed ? 'block' : 'none';\n",
              "    })();\n",
              "  </script>\n",
              "</div>\n",
              "    </div>\n",
              "  </div>\n"
            ],
            "application/vnd.google.colaboratory.intrinsic+json": {
              "type": "dataframe",
              "variable_name": "df1"
            }
          },
          "metadata": {},
          "execution_count": 11
        }
      ],
      "source": [
        "df1.head(20)"
      ]
    },
    {
      "cell_type": "code",
      "execution_count": 12,
      "metadata": {
        "colab": {
          "base_uri": "https://localhost:8080/"
        },
        "id": "6o5XBj0NQSn7",
        "outputId": "cf4b24e4-e643-4e58-b846-848f9f825ea2"
      },
      "outputs": [
        {
          "output_type": "stream",
          "name": "stdout",
          "text": [
            "As a prank, some students let three goats loose inside their school after painting the numbers 1, 2 and 4 on the sides of the goats. The teachers spent most of the day looking for goat number 3.\n",
            "The small crowd at Hiroshima Peace Memorial Park stood for a moment of silence at 8:15 a.m., the exact moment an atomic bomb nicknamed “Little Boy” was dropped from the U.S. warplane Enola Gay.\n",
            "In today's world, we have to equip all our kids with an education that prepares them for success, regardless of what they look like, or how much their parents make, or the zip code that they live in.\n",
            "Death is something that we're often discouraged to talk about or even think about, but I've realized that preparing for death is one of the most empowering things you can do. Thinking about death clarifies your life.\n",
            "At a moment when our economy is growing, our businesses are creating jobs at the fastest pace since the 1990s, and wages are starting to rise again, we have to make some choices about the kind of country we want to be.\n",
            "Even if some sentences by non-native speakers are good, it's really hard to trust that they are good, so members would be helping us much more by limiting their contributions to sentences in their own native languages.\n",
            "If someone who doesn't know your background says that you sound like a native speaker, it means they probably noticed something about your speaking that made them realize you weren't a native speaker. In other words, you don't really sound like a native speaker.\n",
            "If someone who doesn't know your background says that you sound like a native speaker, it means they probably noticed something about your speaking that made them realize you weren't a native speaker. In other words, you don't really sound like a native speaker.\n",
            "If someone who doesn't know your background says that you sound like a native speaker, it means they probably noticed something about your speaking that made them realize you weren't a native speaker. In other words, you don't really sound like a native speaker.\n",
            "Doubtless there exists in this world precisely the right woman for any given man to marry and vice versa; but when you consider that a human being has the opportunity of being acquainted with only a few hundred people, and out of the few hundred that there are but a dozen or less whom he knows intimately, and out of the dozen, one or two friends at most, it will easily be seen, when we remember the number of millions who inhabit this world, that probably, since the earth was created, the right man has never yet met the right woman.\n"
          ]
        }
      ],
      "source": [
        "first_column_values_last_10_rows=df1['English'].tail(10)\n",
        "\n",
        "\n",
        "paragraph = '\\n'.join(first_column_values_last_10_rows)\n",
        "# Print the paragraph\n",
        "print(paragraph)"
      ]
    },
    {
      "cell_type": "code",
      "execution_count": 13,
      "metadata": {
        "colab": {
          "base_uri": "https://localhost:8080/"
        },
        "id": "PFE_SwaSQSn8",
        "outputId": "27a0d80a-eceb-4cad-9899-fe280d6bcc41"
      },
      "outputs": [
        {
          "output_type": "execute_result",
          "data": {
            "text/plain": [
              "221533"
            ]
          },
          "metadata": {},
          "execution_count": 13
        }
      ],
      "source": [
        "len(df1)"
      ]
    },
    {
      "cell_type": "markdown",
      "metadata": {
        "id": "a0ZEkhCcQSn8"
      },
      "source": [
        "# Split the English and german translation pairs"
      ]
    },
    {
      "cell_type": "code",
      "execution_count": 14,
      "metadata": {
        "id": "JTexDisnQSn8"
      },
      "outputs": [],
      "source": [
        "#common function for both spanish and german\n",
        "\n",
        "class split_pairs:\n",
        " def split_pairs_method(self,df1):\n",
        "  text_pairs=[]\n",
        "\n",
        "  for i in range(len(df1)):\n",
        "    english,language=df1[\"English\"][i],df1[\"German\"][i]\n",
        "    language=\"[start] \" + language + \" [end]\"\n",
        "    text_pairs.append((english,language))\n",
        "\n",
        "  return text_pairs\n"
      ]
    },
    {
      "cell_type": "code",
      "execution_count": 15,
      "metadata": {
        "id": "GxCLV26oQSn8"
      },
      "outputs": [],
      "source": [
        "#randomly selecting that if the above function work\n",
        "class random_pair_test:\n",
        "  def random_test_method(self,text_pairs):\n",
        "   for i in range(3):\n",
        "    print(random.choice(text_pairs))\n"
      ]
    },
    {
      "cell_type": "code",
      "execution_count": 16,
      "metadata": {
        "colab": {
          "base_uri": "https://localhost:8080/"
        },
        "id": "CWz-4aHrQSn8",
        "outputId": "cb052d4e-0c48-4c59-e172-ea90237fb565"
      },
      "outputs": [
        {
          "output_type": "stream",
          "name": "stdout",
          "text": [
            "('What do we do after this?', '[start] Was machen wir danach? [end]')\n",
            "('He never returned from that expedition.', '[start] Er kehrte nie von dieser Expedition zurück. [end]')\n",
            "('Tom was fired last week.', '[start] Tom wurde letzte Woche entlassen. [end]')\n"
          ]
        }
      ],
      "source": [
        "#pairing for german text\n",
        "\n",
        "german_text_pairs=split_pairs().split_pairs_method(df1)\n",
        "\n",
        "random_pair_test().random_test_method(german_text_pairs)"
      ]
    },
    {
      "cell_type": "markdown",
      "metadata": {
        "id": "ONBS7oUKQSn8"
      },
      "source": [
        "# Randomizing the data"
      ]
    },
    {
      "cell_type": "code",
      "execution_count": 17,
      "metadata": {
        "id": "NMqM0bX4QSn9"
      },
      "outputs": [],
      "source": [
        "random.shuffle(german_text_pairs)"
      ]
    },
    {
      "cell_type": "markdown",
      "metadata": {
        "id": "t9jf4gG5QSn9"
      },
      "source": [
        "# Split the data into training, validation,testing"
      ]
    },
    {
      "cell_type": "code",
      "execution_count": 18,
      "metadata": {
        "id": "fu-sAp4xQSn9"
      },
      "outputs": [],
      "source": [
        "#class for splitting text pairs in to train,test,validation\n",
        "class splitting:\n",
        "    def splitting_method(self,text_pairs):\n",
        "        num_val_sample=int(0.15*len(text_pairs))\n",
        "        num_train_samples=len(text_pairs) - 2 * num_val_sample\n",
        "        train_pairs=text_pairs[:num_train_samples]\n",
        "        val_pairs=text_pairs[num_train_samples:num_train_samples+num_val_sample]\n",
        "        test_pairs=text_pairs[num_train_samples+num_val_sample:]\n",
        "\n",
        "        print(\"Total Sentences: \",len(text_pairs))\n",
        "        print(\"Training set size: \",len(train_pairs))\n",
        "        print(\"Validation set size: \",len(val_pairs))\n",
        "        print(\"Testng set size: \",len(test_pairs))\n",
        "        return train_pairs,val_pairs,test_pairs\n",
        "\n"
      ]
    },
    {
      "cell_type": "code",
      "execution_count": 19,
      "metadata": {
        "colab": {
          "base_uri": "https://localhost:8080/"
        },
        "id": "4CEDavS5QSn9",
        "outputId": "fbd0cdaa-3c5f-4359-dd0c-cada92ddd089"
      },
      "outputs": [
        {
          "output_type": "stream",
          "name": "stdout",
          "text": [
            "Total Sentences:  221533\n",
            "Training set size:  155075\n",
            "Validation set size:  33229\n",
            "Testng set size:  33229\n"
          ]
        }
      ],
      "source": [
        "german_train_pairs,german_val_pairs,german_test_pairs=splitting().splitting_method(german_text_pairs)\n"
      ]
    },
    {
      "cell_type": "code",
      "execution_count": 20,
      "metadata": {
        "colab": {
          "base_uri": "https://localhost:8080/"
        },
        "id": "3pOw65VxQSn9",
        "outputId": "1bdd2963-2edf-42b6-e19d-3574cd7675b0"
      },
      "outputs": [
        {
          "output_type": "stream",
          "name": "stdout",
          "text": [
            "221533\n"
          ]
        }
      ],
      "source": [
        "print(len(german_test_pairs)+len(german_train_pairs)+len(german_val_pairs))"
      ]
    },
    {
      "cell_type": "code",
      "execution_count": 21,
      "metadata": {
        "colab": {
          "base_uri": "https://localhost:8080/"
        },
        "id": "4b1WfhLtQSn9",
        "outputId": "a28131ed-1f64-4f9a-c633-f0f0113b0dcd"
      },
      "outputs": [
        {
          "output_type": "stream",
          "name": "stdout",
          "text": [
            "('I drink either coffee or tea every morning.', '[start] Ich trinke jeden Morgen entweder Kaffee oder Tee. [end]')\n"
          ]
        }
      ],
      "source": [
        "print(german_val_pairs[200])"
      ]
    },
    {
      "cell_type": "markdown",
      "metadata": {
        "id": "6aBuMqKeQSn9"
      },
      "source": [
        "# Removing Puncuations"
      ]
    },
    {
      "cell_type": "code",
      "execution_count": 22,
      "metadata": {
        "colab": {
          "base_uri": "https://localhost:8080/",
          "height": 36
        },
        "id": "3VWCgQzrQSn-",
        "outputId": "ea36a197-e110-4911-c78d-0b5ce5a9d0c7"
      },
      "outputs": [
        {
          "output_type": "execute_result",
          "data": {
            "text/plain": [
              "'8'"
            ],
            "application/vnd.google.colaboratory.intrinsic+json": {
              "type": "string"
            }
          },
          "metadata": {},
          "execution_count": 22
        }
      ],
      "source": [
        "strip_chars = string.punctuation + \"¿\"\n",
        "strip_chars = strip_chars.replace(\"[\", \"\")\n",
        "strip_chars = strip_chars.replace(\"]\", \"\")\n",
        "\n",
        "\n",
        "f\"[{re.escape(strip_chars)}]\"\n",
        "\n",
        "f\"{5+3}\""
      ]
    },
    {
      "cell_type": "markdown",
      "metadata": {
        "id": "hC2pkVMvQSn-"
      },
      "source": [
        "# Vectorizing the English and spanish text pairs"
      ]
    },
    {
      "cell_type": "code",
      "execution_count": 23,
      "metadata": {
        "id": "bDTsAh84QSn-"
      },
      "outputs": [],
      "source": [
        "def custom_standardization(input_string):\n",
        "    lowercase=tf.strings.lower(input_string)\n",
        "    return tf.strings.regex_replace(lowercase,f\"[{re.escape(strip_chars)}]\", \"\")\n",
        "\n",
        "vocab_size=15000\n",
        "sequence_length=20\n",
        "\n",
        "source_vectorization=layers.TextVectorization(\n",
        "    max_tokens=vocab_size,\n",
        "    output_mode=\"int\",\n",
        "    output_sequence_length=sequence_length,\n",
        ")\n",
        "\n",
        "target_vectorization=layers.TextVectorization(\n",
        "    max_tokens=vocab_size,\n",
        "    output_mode=\"int\",\n",
        "    output_sequence_length=sequence_length+1,\n",
        "    standardize=custom_standardization,\n",
        ")\n",
        "\n",
        "train_english_texts=[pair[0] for pair in german_train_pairs]\n",
        "train_german_texts=[pair[1] for pair in german_train_pairs]\n",
        "\n",
        "source_vectorization.adapt(train_english_texts)\n",
        "target_vectorization.adapt(train_german_texts)"
      ]
    },
    {
      "cell_type": "code",
      "execution_count": 24,
      "metadata": {
        "colab": {
          "base_uri": "https://localhost:8080/"
        },
        "id": "2MOw15MTQSn-",
        "outputId": "4a44854c-06ba-40ce-c091-fe3200f69501"
      },
      "outputs": [
        {
          "output_type": "stream",
          "name": "stdout",
          "text": [
            "Do you trust her?\n",
            "[start] Vertraust du ihr? [end]\n",
            "<keras.src.layers.preprocessing.text_vectorization.TextVectorization object at 0x7957b8238df0>\n"
          ]
        }
      ],
      "source": [
        "print(train_english_texts[1])\n",
        "print(train_german_texts[1])\n",
        "\n",
        "print(source_vectorization)"
      ]
    },
    {
      "cell_type": "code",
      "execution_count": 25,
      "metadata": {
        "colab": {
          "base_uri": "https://localhost:8080/"
        },
        "id": "G5sLgImmQSn-",
        "outputId": "22bb27cd-b9b9-4553-c555-56993f387020"
      },
      "outputs": [
        {
          "output_type": "stream",
          "name": "stdout",
          "text": [
            "[('Do you trust her?', '[start] Vertraust du ihr? [end]'), (\"I don't care for alcoholic drinks.\", '[start] Ich mache mir nichts aus Alkohol. [end]'), ('We should see each other more often.', '[start] Wir sollten uns öfter treffen. [end]'), ('Tom got discouraged.', '[start] Tom verlor den Mut. [end]')]\n"
          ]
        }
      ],
      "source": [
        "print(german_train_pairs[1:5])"
      ]
    },
    {
      "cell_type": "markdown",
      "metadata": {
        "id": "l3s0jIZsQSn-"
      },
      "source": [
        "# Preparing datasets for the translation task"
      ]
    },
    {
      "cell_type": "code",
      "execution_count": 26,
      "metadata": {
        "colab": {
          "base_uri": "https://localhost:8080/"
        },
        "id": "9t-RDOfPQSn_",
        "outputId": "38304402-798f-4f72-8a05-8da711898318"
      },
      "outputs": [
        {
          "output_type": "stream",
          "name": "stdout",
          "text": [
            "inputs['english'].shape: (64, 20)\n",
            "inputs['german'].shape: (64, 20)\n",
            "targets.shape: (64, 20)\n"
          ]
        }
      ],
      "source": [
        "batch_size=64\n",
        "\n",
        "def format_dataset(eng,ger):\n",
        "    eng=source_vectorization(eng)\n",
        "    ger=target_vectorization(ger)\n",
        "    return ({\"english\":eng,\n",
        "             \"german\":ger[:,:-1],\n",
        "             },ger[:,1:])\n",
        "\n",
        "def make_dataset(pairs):\n",
        "    eng_texts,ger_texts=zip(*pairs)\n",
        "    eng_texts=list(eng_texts)\n",
        "    ger_texts=list(ger_texts)\n",
        "    dataset=tf.data.Dataset.from_tensor_slices((eng_texts,ger_texts))\n",
        "    dataset=dataset.batch(batch_size)\n",
        "    dataset=dataset.map(format_dataset,num_parallel_calls=4)\n",
        "\n",
        "    return dataset.shuffle(2048).prefetch(16).cache()\n",
        "\n",
        "train_data=make_dataset(german_train_pairs)\n",
        "val_data=make_dataset(german_val_pairs)\n",
        "\n",
        "# print(train_data)\n",
        "# print(val_data)\n",
        "\n",
        "for inputs, targets in train_data.take(1):\n",
        "    print(f\"inputs['english'].shape: {inputs['english'].shape}\")\n",
        "    print(f\"inputs['german'].shape: {inputs['german'].shape}\")\n",
        "    print(f\"targets.shape: {targets.shape}\")\n",
        "\n"
      ]
    },
    {
      "cell_type": "code",
      "execution_count": 27,
      "metadata": {
        "colab": {
          "base_uri": "https://localhost:8080/"
        },
        "id": "DQVEkF7oQSn_",
        "outputId": "f5fb1ecd-2ad5-4e32-86ed-b878f58be3ea"
      },
      "outputs": [
        {
          "output_type": "stream",
          "name": "stdout",
          "text": [
            "({'english': array([[   2,  165,  944, ...,    0,    0,    0],\n",
            "       [   6,   93,  897, ...,    0,    0,    0],\n",
            "       [ 143,   37,    9, ...,    0,    0,    0],\n",
            "       ...,\n",
            "       [  73,   57,    4, ...,    0,    0,    0],\n",
            "       [   6,  242,  318, ...,    0,    0,    0],\n",
            "       [   2, 2312,  927, ...,    0,    0,    0]]), 'german': array([[   2,    5,   56, ...,    0,    0,    0],\n",
            "       [   2,    4,  191, ...,    0,    0,    0],\n",
            "       [   2, 1228,   89, ...,    0,    0,    0],\n",
            "       ...,\n",
            "       [   2,  168,  225, ...,    0,    0,    0],\n",
            "       [   2,    4,  402, ...,    0,    0,    0],\n",
            "       [   2,    5,   16, ...,    0,    0,    0]])}, array([[   5,   56,  195, ...,    0,    0,    0],\n",
            "       [   4,  191,  128, ...,    0,    0,    0],\n",
            "       [1228,   89,  222, ...,    0,    0,    0],\n",
            "       ...,\n",
            "       [ 168,  225,    9, ...,    0,    0,    0],\n",
            "       [   4,  402,  508, ...,    0,    0,    0],\n",
            "       [   5,   16, 2930, ...,    0,    0,    0]]))\n"
          ]
        }
      ],
      "source": [
        "print(list(train_data.as_numpy_iterator())[50])"
      ]
    },
    {
      "cell_type": "markdown",
      "metadata": {
        "id": "p4FpSuqPQSn_"
      },
      "source": [
        "# Transformers encoder implemented as a subclassed Layer"
      ]
    },
    {
      "cell_type": "code",
      "execution_count": 28,
      "metadata": {
        "id": "nyRAeFDgQSn_"
      },
      "outputs": [],
      "source": [
        "class TransformerEncoder(layers.Layer):\n",
        "    def __init__(self,embed_dim,dense_dim,num_heads,**kwargs):\n",
        "        super().__init__(**kwargs)\n",
        "        self.embed_dim=embed_dim\n",
        "        self.dense_dim=dense_dim\n",
        "        self.num_heads=num_heads\n",
        "        self.attention=layers.MultiHeadAttention(\n",
        "           num_heads=num_heads,key_dim=embed_dim)\n",
        "        self.dense_proj=keras.Sequential(\n",
        "            [layers.Dense(dense_dim,activation=\"relu\"),\n",
        "             layers.Dense(embed_dim),]\n",
        "        )\n",
        "        self.layernorm_1=layers.LayerNormalization()\n",
        "        self.layernorm_2=layers.LayerNormalization()\n",
        "\n",
        "    def call(self,inputs,mask=None):\n",
        "        if mask is not None:\n",
        "            mask=mask[:,tf.newaxis,:]\n",
        "        attention_output=self.attention(\n",
        "            inputs,inputs,attention_mask=mask\n",
        "        )\n",
        "        project_input=self.layernorm_1(inputs+attention_output)\n",
        "        project_output=self.dense_proj(project_input)\n",
        "\n",
        "        return self.layernorm_2(project_input+project_output)\n",
        "\n",
        "    def get_config(self):\n",
        "        config=super().get_config()\n",
        "        config.update({\n",
        "            \"embed_dim\": self.embed_dim,\n",
        "            \"num_heads\": self.num_heads,\n",
        "            \"dense_dim\": self.dense_dim,\n",
        "        })\n",
        "        return config"
      ]
    },
    {
      "cell_type": "markdown",
      "metadata": {
        "id": "asuNvD-cQSn_"
      },
      "source": [
        "# Transformer decorder"
      ]
    },
    {
      "cell_type": "code",
      "execution_count": 29,
      "metadata": {
        "id": "vP9OTqcxQSn_"
      },
      "outputs": [],
      "source": [
        "class TransformerDecoder(layers.Layer):\n",
        "    def __init__(self,embed_dim,dense_dim,num_heads,**kwargs):\n",
        "        super().__init__(**kwargs)\n",
        "        self.embed_dim=embed_dim\n",
        "        self.dense_dim=dense_dim\n",
        "        self.num_heads=num_heads\n",
        "        self.attention_1=layers.MultiHeadAttention(\n",
        "            num_heads=num_heads,key_dim=embed_dim)\n",
        "        self.attention_2=layers.MultiHeadAttention(\n",
        "            num_heads=num_heads,key_dim=embed_dim)\n",
        "        self.dense_proj=keras.Sequential(\n",
        "            [layers.Dense(dense_dim,activation=\"relu\"),\n",
        "             layers.Dense(embed_dim),]\n",
        "        )\n",
        "        self.layernorm_1=layers.LayerNormalization()\n",
        "        self.layernorm_2=layers.LayerNormalization()\n",
        "        self.layernorm_3=layers.LayerNormalization()\n",
        "        self.supports_masking=True\n",
        "\n",
        "    def get_config(self):\n",
        "        config=super().get_config()\n",
        "        config.update({\n",
        "            \"embed_dim\": self.embed_dim,\n",
        "            \"num_heads\": self.num_heads,\n",
        "            \"dense_dim\": self.dense_dim,\n",
        "        })\n",
        "        return config\n",
        "\n",
        "    def get_casual_attention_mask(self,inputs):\n",
        "        input_shape=tf.shape(inputs)\n",
        "        batch_size,sequence_length=input_shape[0],input_shape[1]\n",
        "        i=tf.range(sequence_length)[:,tf.newaxis]\n",
        "        j=tf.range(sequence_length)\n",
        "        mask=tf.cast(i>=j,dtype=\"int32\")\n",
        "        mask=tf.reshape(mask,(1,input_shape[1],input_shape[1]))\n",
        "        mult=tf.concat(\n",
        "            [tf.expand_dims(batch_size,-1),\n",
        "             tf.constant([1,1],dtype=tf.int32)],axis=0)\n",
        "\n",
        "        return tf.tile(mask,mult)\n",
        "\n",
        "\n",
        "    def call(self,inputs,encorder_outputs,mask=None):\n",
        "        casual_mask=self.get_casual_attention_mask(inputs)\n",
        "        if mask is not None:\n",
        "            padding_mask=tf.cast(\n",
        "                mask[:,tf.newaxis,:],dtype=\"int32\"\n",
        "            )\n",
        "            padding_mask=tf.minimum(padding_mask,casual_mask)\n",
        "        else:\n",
        "            padding_mask=mask\n",
        "        attention_output_1=self.attention_1(\n",
        "            query=inputs,\n",
        "            value=inputs,\n",
        "            key=inputs,\n",
        "            attention_mask=casual_mask\n",
        "        )\n",
        "        attention_output_1=self.layernorm_1(inputs+attention_output_1)\n",
        "        attention_output_2=self.attention_2(\n",
        "            query=attention_output_1,\n",
        "            value=encorder_outputs,\n",
        "            key=encorder_outputs,\n",
        "            attention_mask=padding_mask,\n",
        "        )\n",
        "        attention_output_2=self.layernorm_2(\n",
        "            attention_output_1+attention_output_2\n",
        "        )\n",
        "        proj_output=self.dense_proj(attention_output_2)\n",
        "        return self.layernorm_3(attention_output_2+proj_output)\n",
        "\n",
        "\n"
      ]
    },
    {
      "cell_type": "markdown",
      "metadata": {
        "id": "K0Dt2Pj_QSoA"
      },
      "source": [
        "# Positional Encoding"
      ]
    },
    {
      "cell_type": "code",
      "execution_count": 30,
      "metadata": {
        "id": "W8JH3MDzQSoA"
      },
      "outputs": [],
      "source": [
        "class PositionalEmbedding(layers.Layer):\n",
        "    def __init__(self,sequence_length,input_dim,output_dim,**kwargs):\n",
        "        super().__init__(**kwargs)\n",
        "        self.token_embeddings=layers.Embedding(\n",
        "            input_dim=input_dim,output_dim=output_dim)\n",
        "        self.position_embeddings=layers.Embedding(\n",
        "            input_dim=sequence_length,output_dim=output_dim)\n",
        "        self.sequence_length=sequence_length\n",
        "        self.input_dim=input_dim\n",
        "        self.output_dim=output_dim\n",
        "\n",
        "    def call(self,inputs):\n",
        "        length=tf.shape(inputs)[-1]\n",
        "        positions=tf.range(start=0,limit=length,delta=1)\n",
        "        embedded_tokens=self.token_embeddings(inputs)\n",
        "        embedded_positions=self.position_embeddings(positions)\n",
        "\n",
        "        return embedded_tokens + embedded_positions\n",
        "\n",
        "\n",
        "    def compute_mask(self, inputs, mask=None):\n",
        "        return tf.not_equal(inputs, 0)\n",
        "\n",
        "    def get_config(self):\n",
        "        config=super(PositionalEmbedding,self).get_config()\n",
        "        config.update({\n",
        "            \"output_dim\": self.output_dim,\n",
        "            \"sequence_length\": self.sequence_length,\n",
        "            \"input_dim\": self.input_dim,\n",
        "        })\n",
        "        return config"
      ]
    },
    {
      "cell_type": "code",
      "execution_count": 31,
      "metadata": {
        "id": "OJz24S2XQSoH"
      },
      "outputs": [],
      "source": [
        "# from tensorflow.python.framework.ops import disable_eager_execution\n",
        "# disable_eager_execution()"
      ]
    },
    {
      "cell_type": "markdown",
      "metadata": {
        "id": "JZN5UgCOQSoH"
      },
      "source": [
        "# End-to-End Transformer"
      ]
    },
    {
      "cell_type": "code",
      "execution_count": 32,
      "metadata": {
        "id": "QYCGfZpwQSoH"
      },
      "outputs": [],
      "source": [
        "embed_dim=256\n",
        "dense_dim=2048\n",
        "num_heads=8\n",
        "\n",
        "encoder_inputs=keras.Input(shape=(None,), dtype=\"int64\", name=\"english\")\n",
        "x=PositionalEmbedding(sequence_length,vocab_size,embed_dim)(encoder_inputs)\n",
        "encoder_outputs=TransformerEncoder(embed_dim,dense_dim,num_heads)(x)\n",
        "\n",
        "decorder_inputs=keras.Input(shape=(None,),dtype=\"int64\",name=\"german\")\n",
        "x=PositionalEmbedding(sequence_length,vocab_size,embed_dim)(decorder_inputs)\n",
        "x=TransformerDecoder(embed_dim,dense_dim,num_heads)(x,encoder_outputs)\n",
        "x=layers.Dropout(0.5)(x)\n",
        "decorder_outputs=layers.Dense(vocab_size,activation=\"softmax\")(x)\n",
        "transformer=keras.Model([encoder_inputs,decorder_inputs],decorder_outputs)"
      ]
    },
    {
      "cell_type": "code",
      "execution_count": 33,
      "metadata": {
        "colab": {
          "base_uri": "https://localhost:8080/"
        },
        "id": "U_IQ5KACSRIa",
        "outputId": "592f2f8c-6338-409c-9985-46b3d89f51f7"
      },
      "outputs": [
        {
          "output_type": "stream",
          "name": "stdout",
          "text": [
            "Model: \"model\"\n",
            "__________________________________________________________________________________________________\n",
            " Layer (type)                Output Shape                 Param #   Connected to                  \n",
            "==================================================================================================\n",
            " english (InputLayer)        [(None, None)]               0         []                            \n",
            "                                                                                                  \n",
            " german (InputLayer)         [(None, None)]               0         []                            \n",
            "                                                                                                  \n",
            " positional_embedding (Posi  (None, None, 256)            3845120   ['english[0][0]']             \n",
            " tionalEmbedding)                                                                                 \n",
            "                                                                                                  \n",
            " positional_embedding_1 (Po  (None, None, 256)            3845120   ['german[0][0]']              \n",
            " sitionalEmbedding)                                                                               \n",
            "                                                                                                  \n",
            " transformer_encoder (Trans  (None, None, 256)            3155456   ['positional_embedding[0][0]']\n",
            " formerEncoder)                                                                                   \n",
            "                                                                                                  \n",
            " transformer_decoder (Trans  (None, None, 256)            5259520   ['positional_embedding_1[0][0]\n",
            " formerDecoder)                                                     ',                            \n",
            "                                                                     'transformer_encoder[0][0]'] \n",
            "                                                                                                  \n",
            " dropout (Dropout)           (None, None, 256)            0         ['transformer_decoder[0][0]'] \n",
            "                                                                                                  \n",
            " dense_4 (Dense)             (None, None, 15000)          3855000   ['dropout[0][0]']             \n",
            "                                                                                                  \n",
            "==================================================================================================\n",
            "Total params: 19960216 (76.14 MB)\n",
            "Trainable params: 19960216 (76.14 MB)\n",
            "Non-trainable params: 0 (0.00 Byte)\n",
            "__________________________________________________________________________________________________\n"
          ]
        }
      ],
      "source": [
        "transformer.summary()"
      ]
    },
    {
      "cell_type": "markdown",
      "metadata": {
        "id": "XepQ7qXITPOP"
      },
      "source": [
        "# Training the sequence-to-sequence Transformer"
      ]
    },
    {
      "cell_type": "code",
      "execution_count": 34,
      "metadata": {
        "colab": {
          "base_uri": "https://localhost:8080/"
        },
        "id": "uFQ2g7CYSdft",
        "outputId": "5df6469d-6267-454e-9fb6-a574e007d9a3"
      },
      "outputs": [
        {
          "output_type": "stream",
          "name": "stdout",
          "text": [
            "Epoch 1/50\n",
            "2424/2424 [==============================] - 179s 70ms/step - loss: 3.3702 - accuracy: 0.4949 - val_loss: 2.5726 - val_accuracy: 0.5808\n",
            "Epoch 2/50\n",
            "2424/2424 [==============================] - 169s 70ms/step - loss: 2.6183 - accuracy: 0.5829 - val_loss: 2.3415 - val_accuracy: 0.6172\n",
            "Epoch 3/50\n",
            "2424/2424 [==============================] - 166s 69ms/step - loss: 2.4224 - accuracy: 0.6143 - val_loss: 2.2521 - val_accuracy: 0.6352\n",
            "Epoch 4/50\n",
            "2424/2424 [==============================] - 166s 69ms/step - loss: 2.3087 - accuracy: 0.6339 - val_loss: 2.2040 - val_accuracy: 0.6437\n",
            "Epoch 5/50\n",
            "2424/2424 [==============================] - 169s 70ms/step - loss: 2.2257 - accuracy: 0.6491 - val_loss: 2.1855 - val_accuracy: 0.6489\n",
            "Epoch 6/50\n",
            "2424/2424 [==============================] - 166s 68ms/step - loss: 2.1497 - accuracy: 0.6623 - val_loss: 2.1552 - val_accuracy: 0.6571\n",
            "Epoch 7/50\n",
            "2424/2424 [==============================] - 166s 68ms/step - loss: 2.0904 - accuracy: 0.6721 - val_loss: 2.1244 - val_accuracy: 0.6644\n",
            "Epoch 8/50\n",
            "2424/2424 [==============================] - 166s 68ms/step - loss: 2.0438 - accuracy: 0.6803 - val_loss: 2.1170 - val_accuracy: 0.6667\n",
            "Epoch 9/50\n",
            "2424/2424 [==============================] - 166s 68ms/step - loss: 2.0006 - accuracy: 0.6875 - val_loss: 2.1237 - val_accuracy: 0.6686\n",
            "Epoch 10/50\n",
            "2424/2424 [==============================] - 166s 68ms/step - loss: 1.9658 - accuracy: 0.6935 - val_loss: 2.1187 - val_accuracy: 0.6710\n",
            "Epoch 11/50\n",
            "2424/2424 [==============================] - 166s 68ms/step - loss: 1.9341 - accuracy: 0.6988 - val_loss: 2.1307 - val_accuracy: 0.6669\n",
            "Epoch 12/50\n",
            "2424/2424 [==============================] - 166s 68ms/step - loss: 1.9060 - accuracy: 0.7038 - val_loss: 2.1156 - val_accuracy: 0.6727\n",
            "Epoch 13/50\n",
            "2424/2424 [==============================] - 166s 68ms/step - loss: 1.8801 - accuracy: 0.7080 - val_loss: 2.1400 - val_accuracy: 0.6752\n",
            "Epoch 14/50\n",
            "2424/2424 [==============================] - 166s 68ms/step - loss: 1.8565 - accuracy: 0.7117 - val_loss: 2.1293 - val_accuracy: 0.6733\n",
            "Epoch 15/50\n",
            "2424/2424 [==============================] - 166s 68ms/step - loss: 1.8359 - accuracy: 0.7151 - val_loss: 2.1309 - val_accuracy: 0.6754\n",
            "Epoch 16/50\n",
            "2424/2424 [==============================] - 166s 68ms/step - loss: 1.8132 - accuracy: 0.7186 - val_loss: 2.1232 - val_accuracy: 0.6799\n",
            "Epoch 17/50\n",
            "2424/2424 [==============================] - 169s 70ms/step - loss: 1.7937 - accuracy: 0.7220 - val_loss: 2.1370 - val_accuracy: 0.6772\n",
            "Epoch 18/50\n",
            "2424/2424 [==============================] - 166s 68ms/step - loss: 1.7761 - accuracy: 0.7249 - val_loss: 2.1244 - val_accuracy: 0.6768\n",
            "Epoch 19/50\n",
            "2424/2424 [==============================] - 166s 68ms/step - loss: 1.7588 - accuracy: 0.7275 - val_loss: 2.1296 - val_accuracy: 0.6810\n",
            "Epoch 20/50\n",
            "2424/2424 [==============================] - 166s 68ms/step - loss: 1.7412 - accuracy: 0.7304 - val_loss: 2.1558 - val_accuracy: 0.6794\n",
            "Epoch 21/50\n",
            "2424/2424 [==============================] - 166s 68ms/step - loss: 1.7246 - accuracy: 0.7331 - val_loss: 2.1629 - val_accuracy: 0.6796\n",
            "Epoch 22/50\n",
            "2424/2424 [==============================] - 166s 68ms/step - loss: 1.7102 - accuracy: 0.7353 - val_loss: 2.1676 - val_accuracy: 0.6801\n",
            "Epoch 23/50\n",
            "2424/2424 [==============================] - 166s 68ms/step - loss: 1.6923 - accuracy: 0.7387 - val_loss: 2.1759 - val_accuracy: 0.6786\n",
            "Epoch 24/50\n",
            "2424/2424 [==============================] - 166s 68ms/step - loss: 1.6774 - accuracy: 0.7411 - val_loss: 2.1919 - val_accuracy: 0.6831\n",
            "Epoch 25/50\n",
            "2424/2424 [==============================] - 169s 70ms/step - loss: 1.6628 - accuracy: 0.7436 - val_loss: 2.1766 - val_accuracy: 0.6808\n",
            "Epoch 26/50\n",
            "2424/2424 [==============================] - 169s 70ms/step - loss: 1.6479 - accuracy: 0.7458 - val_loss: 2.2093 - val_accuracy: 0.6785\n",
            "Epoch 27/50\n",
            "2424/2424 [==============================] - 166s 68ms/step - loss: 1.6372 - accuracy: 0.7478 - val_loss: 2.1840 - val_accuracy: 0.6831\n",
            "Epoch 28/50\n",
            "2424/2424 [==============================] - 166s 68ms/step - loss: 1.6215 - accuracy: 0.7505 - val_loss: 2.2063 - val_accuracy: 0.6823\n",
            "Epoch 29/50\n",
            "2424/2424 [==============================] - 166s 68ms/step - loss: 1.6054 - accuracy: 0.7531 - val_loss: 2.2153 - val_accuracy: 0.6834\n",
            "Epoch 30/50\n",
            "2424/2424 [==============================] - 166s 68ms/step - loss: 1.5950 - accuracy: 0.7553 - val_loss: 2.2122 - val_accuracy: 0.6834\n",
            "Epoch 31/50\n",
            "2424/2424 [==============================] - 166s 68ms/step - loss: 1.5832 - accuracy: 0.7572 - val_loss: 2.2317 - val_accuracy: 0.6823\n",
            "Epoch 32/50\n",
            "2424/2424 [==============================] - 166s 68ms/step - loss: 1.5713 - accuracy: 0.7587 - val_loss: 2.2450 - val_accuracy: 0.6817\n",
            "Epoch 33/50\n",
            "2424/2424 [==============================] - 166s 69ms/step - loss: 1.5579 - accuracy: 0.7611 - val_loss: 2.2532 - val_accuracy: 0.6798\n",
            "Epoch 34/50\n",
            "2424/2424 [==============================] - 166s 68ms/step - loss: 1.5471 - accuracy: 0.7630 - val_loss: 2.2729 - val_accuracy: 0.6834\n",
            "Epoch 35/50\n",
            "2424/2424 [==============================] - 166s 68ms/step - loss: 1.5355 - accuracy: 0.7653 - val_loss: 2.2671 - val_accuracy: 0.6847\n",
            "Epoch 36/50\n",
            "2424/2424 [==============================] - 166s 68ms/step - loss: 1.5237 - accuracy: 0.7673 - val_loss: 2.2479 - val_accuracy: 0.6867\n",
            "Epoch 37/50\n",
            "2424/2424 [==============================] - 166s 68ms/step - loss: 1.5119 - accuracy: 0.7693 - val_loss: 2.2820 - val_accuracy: 0.6849\n",
            "Epoch 38/50\n",
            "2424/2424 [==============================] - 166s 68ms/step - loss: 1.5041 - accuracy: 0.7707 - val_loss: 2.2676 - val_accuracy: 0.6876\n",
            "Epoch 39/50\n",
            "2424/2424 [==============================] - 166s 68ms/step - loss: 1.4884 - accuracy: 0.7734 - val_loss: 2.2971 - val_accuracy: 0.6864\n",
            "Epoch 40/50\n",
            "2424/2424 [==============================] - 166s 68ms/step - loss: 1.4808 - accuracy: 0.7751 - val_loss: 2.3129 - val_accuracy: 0.6859\n",
            "Epoch 41/50\n",
            "2424/2424 [==============================] - 166s 68ms/step - loss: 1.4678 - accuracy: 0.7773 - val_loss: 2.2923 - val_accuracy: 0.6876\n",
            "Epoch 42/50\n",
            "2424/2424 [==============================] - 165s 68ms/step - loss: 1.4582 - accuracy: 0.7791 - val_loss: 2.3163 - val_accuracy: 0.6869\n",
            "Epoch 43/50\n",
            "2424/2424 [==============================] - 166s 68ms/step - loss: 1.4457 - accuracy: 0.7813 - val_loss: 2.3410 - val_accuracy: 0.6889\n",
            "Epoch 44/50\n",
            "2424/2424 [==============================] - 166s 68ms/step - loss: 1.4384 - accuracy: 0.7829 - val_loss: 2.3637 - val_accuracy: 0.6867\n",
            "Epoch 45/50\n",
            "2424/2424 [==============================] - 165s 68ms/step - loss: 1.4258 - accuracy: 0.7847 - val_loss: 2.3713 - val_accuracy: 0.6860\n",
            "Epoch 46/50\n",
            "2424/2424 [==============================] - 166s 68ms/step - loss: 1.4179 - accuracy: 0.7860 - val_loss: 2.3949 - val_accuracy: 0.6862\n",
            "Epoch 47/50\n",
            "2424/2424 [==============================] - 165s 68ms/step - loss: 1.4072 - accuracy: 0.7880 - val_loss: 2.4126 - val_accuracy: 0.6873\n",
            "Epoch 48/50\n",
            "2424/2424 [==============================] - 165s 68ms/step - loss: 1.3977 - accuracy: 0.7897 - val_loss: 2.4055 - val_accuracy: 0.6867\n",
            "Epoch 49/50\n",
            "2424/2424 [==============================] - 166s 68ms/step - loss: 1.3876 - accuracy: 0.7914 - val_loss: 2.4161 - val_accuracy: 0.6867\n",
            "Epoch 50/50\n",
            "2424/2424 [==============================] - 165s 68ms/step - loss: 1.3773 - accuracy: 0.7930 - val_loss: 2.4273 - val_accuracy: 0.6893\n"
          ]
        },
        {
          "output_type": "execute_result",
          "data": {
            "text/plain": [
              "<keras.src.callbacks.History at 0x7957a0534910>"
            ]
          },
          "metadata": {},
          "execution_count": 34
        }
      ],
      "source": [
        "transformer.compile(\n",
        "    optimizer=\"rmsprop\",\n",
        "    loss=\"sparse_categorical_crossentropy\",\n",
        "    metrics=[\"accuracy\"]\n",
        ")\n",
        "\n",
        "transformer.fit(train_data,epochs=50,validation_data=val_data)"
      ]
    },
    {
      "cell_type": "code",
      "execution_count": 47,
      "metadata": {
        "id": "C0zjU_ZqagVO"
      },
      "outputs": [],
      "source": [
        "import numpy as np\n",
        "\n",
        "ger_vocab = target_vectorization.get_vocabulary()\n",
        "ger_index_lookup = dict(zip(range(len(ger_vocab)), ger_vocab))\n",
        "max_decoded_sentence_length = 20\n",
        "\n",
        "def decode_sequence(input_sentence):\n",
        "    tokenized_input_sentence = source_sentence = source_vectorization([input_sentence])\n",
        "    decoded_sentence = \"[start]\"\n",
        "\n",
        "    for i in range(max_decoded_sentence_length):\n",
        "        tokenized_target_sentence = target_vectorization([decoded_sentence])[:, :-1]\n",
        "        predictions = transformer([tokenized_input_sentence, tokenized_target_sentence])\n",
        "        sampled_token_index = np.argmax(predictions[0, i, :])\n",
        "        sampled_token = ger_index_lookup[sampled_token_index]\n",
        "        decoded_sentence += \" \" + sampled_token\n",
        "        if sampled_token == \"[end]\":\n",
        "            break\n",
        "\n",
        "    return decoded_sentence"
      ]
    },
    {
      "cell_type": "code",
      "execution_count": 48,
      "metadata": {
        "id": "PY_wqakzcGB1",
        "colab": {
          "base_uri": "https://localhost:8080/"
        },
        "outputId": "e2d25dfc-ef52-47d2-912d-7379e7a6cf99"
      },
      "outputs": [
        {
          "output_type": "stream",
          "name": "stdout",
          "text": [
            "-\n",
            "I cannot tell you everything that happened to me yesterday.\n",
            "[start] ich kann ihnen nicht alles sagen was mir gestern passiert ist [end]\n",
            "-\n",
            "I don't want to cook.\n",
            "[start] ich möchte nicht kochen [end]\n",
            "-\n",
            "If I can't trust you, who can I trust?\n",
            "[start] wenn ich nicht vertrauen kann wer ich vertrauen kann [end]\n",
            "-\n",
            "That isn't to my liking.\n",
            "[start] das sagt mir nicht zu [end]\n",
            "-\n",
            "I can't show you this.\n",
            "[start] ich kann sie nicht zeigen [end]\n",
            "-\n",
            "The old man lives alone.\n",
            "[start] der alte mann lebt allein [end]\n",
            "-\n",
            "I've said all I have to say.\n",
            "[start] ich habe gesagt alles was ich zu sagen habe [end]\n",
            "-\n",
            "I already know.\n",
            "[start] ich weiß es schon [end]\n",
            "-\n",
            "Tom is trying to help you.\n",
            "[start] tom versucht sie zu helfen [end]\n",
            "-\n",
            "The door was locked from within.\n",
            "[start] die tür war von zu erfahren [end]\n",
            "-\n",
            "I didn't ask you to do that.\n",
            "[start] ich habe nicht um das zu tun [end]\n",
            "-\n",
            "The snow has finally melted.\n",
            "[start] der schnee ist endlich ihn [end]\n",
            "-\n",
            "I don't have any evidence.\n",
            "[start] ich habe keine [UNK] [end]\n",
            "-\n",
            "Tom climbed the tree in our front yard.\n",
            "[start] tom ist im ersten baum in unser büro [UNK] [end]\n",
            "-\n",
            "I saw a man yesterday eating from a garbage can.\n",
            "[start] ich habe einen mann zum [UNK] gesehen [end]\n",
            "-\n",
            "Have you already had breakfast?\n",
            "[start] haben sie schon angefangen zu rauchen [end]\n",
            "-\n",
            "Tom taught Mary how to read.\n",
            "[start] tom hat maria das lesen beigebracht [end]\n",
            "-\n",
            "This restaurant is full of young couples.\n",
            "[start] dieses restaurant ist voller [UNK] jung [end]\n",
            "-\n",
            "We tend to make mistakes.\n",
            "[start] wir haben uns in ordnung fehler bringen [end]\n",
            "-\n",
            "I don't know why Tom spent time in prison.\n",
            "[start] ich weiß nicht warum tom den gefängnis ausgegeben hat [end]\n"
          ]
        }
      ],
      "source": [
        "ger_eng_texts = [pair[0] for pair in german_test_pairs]\n",
        "for _ in range(20):\n",
        "    input_sentence = random.choice(ger_eng_texts)\n",
        "    print(\"-\")\n",
        "    print(input_sentence)\n",
        "    print(decode_sequence(input_sentence))"
      ]
    },
    {
      "cell_type": "code",
      "execution_count": 37,
      "metadata": {
        "id": "_YFgoVCYl_zb",
        "colab": {
          "base_uri": "https://localhost:8080/"
        },
        "outputId": "595c376c-cab5-461f-f307-0b63baf93201"
      },
      "outputs": [
        {
          "output_type": "stream",
          "name": "stdout",
          "text": [
            "Mounted at /content/drive\n"
          ]
        }
      ],
      "source": [
        "from google.colab import drive\n",
        "drive.mount('/content/drive')"
      ]
    },
    {
      "cell_type": "code",
      "execution_count": 38,
      "metadata": {
        "id": "5ERUlhqdmwhn"
      },
      "outputs": [],
      "source": [
        "transformer.save('/content/drive/My Drive/Translators')"
      ]
    }
  ],
  "metadata": {
    "accelerator": "GPU",
    "colab": {
      "gpuType": "T4",
      "provenance": [],
      "include_colab_link": true
    },
    "kernelspec": {
      "display_name": "Python 3",
      "name": "python3"
    },
    "language_info": {
      "codemirror_mode": {
        "name": "ipython",
        "version": 3
      },
      "file_extension": ".py",
      "mimetype": "text/x-python",
      "name": "python",
      "nbconvert_exporter": "python",
      "pygments_lexer": "ipython3",
      "version": "3.12.0"
    }
  },
  "nbformat": 4,
  "nbformat_minor": 0
}