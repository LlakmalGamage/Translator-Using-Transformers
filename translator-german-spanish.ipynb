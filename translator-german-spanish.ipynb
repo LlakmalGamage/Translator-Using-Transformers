{
 "cells": [
  {
   "cell_type": "code",
   "execution_count": 1,
   "metadata": {},
   "outputs": [
    {
     "name": "stderr",
     "output_type": "stream",
     "text": [
      "C:\\Users\\USER\\AppData\\Local\\Temp\\ipykernel_30376\\4080736814.py:1: DeprecationWarning: \n",
      "Pyarrow will become a required dependency of pandas in the next major release of pandas (pandas 3.0),\n",
      "(to allow more performant data types, such as the Arrow string type, and better interoperability with other libraries)\n",
      "but was not found to be installed on your system.\n",
      "If this would cause problems for you,\n",
      "please provide us feedback at https://github.com/pandas-dev/pandas/issues/54466\n",
      "        \n",
      "  import pandas as pd\n"
     ]
    }
   ],
   "source": [
    "import pandas as pd"
   ]
  },
  {
   "cell_type": "code",
   "execution_count": 10,
   "metadata": {},
   "outputs": [],
   "source": [
    "german_file_path=\"Data_Sets/deu.txt\"\n",
    "spanish_file_path=\"Data_Sets/data.csv\""
   ]
  },
  {
   "cell_type": "code",
   "execution_count": 14,
   "metadata": {},
   "outputs": [
    {
     "name": "stdout",
     "output_type": "stream",
     "text": [
      "   English                    German\n",
      "0      Go.                      Geh.\n",
      "1      Hi.                    Hallo!\n",
      "2      Hi.                Grüß Gott!\n",
      "3     Run!                     Lauf!\n",
      "4     Run.                     Lauf!\n",
      "5     Wow!               Potzdonner!\n",
      "6     Wow!             Donnerwetter!\n",
      "7    Fire!                    Feuer!\n",
      "8    Help!                    Hilfe!\n",
      "9    Help!                  Zu Hülf!\n",
      "10   Stop!                    Stopp!\n",
      "11   Wait!                    Warte!\n",
      "12   Wait.                    Warte.\n",
      "13  Begin.                  Fang an.\n",
      "14  Go on.              Mach weiter.\n",
      "15  Hello!                    Hallo!\n",
      "16  Hurry!               Beeil dich!\n",
      "17  Hurry!                  Schnell!\n",
      "18  I hid.      Ich versteckte mich.\n",
      "19  I hid.  Ich habe mich versteckt.\n"
     ]
    }
   ],
   "source": [
    "# Initialize lists to store German and English data\n",
    "german_data = []\n",
    "english_data = []\n",
    "\n",
    "with open(german_file_path,'r',encoding='utf-8') as file:\n",
    "    for line in file:\n",
    "        english,german,_=line.strip().split('\\t')\n",
    "        english_data.append(english)\n",
    "        german_data.append(german)\n",
    "        \n",
    "\n",
    "# Create a DataFrame using Pandas\n",
    "df = pd.DataFrame({ 'English': english_data , 'German': german_data})\n",
    "\n",
    "# Display the first few rows of the DataFrame\n",
    "print(df[:20])        "
   ]
  },
  {
   "cell_type": "code",
   "execution_count": 15,
   "metadata": {},
   "outputs": [
    {
     "name": "stdout",
     "output_type": "stream",
     "text": [
      "  English     Spanish\n",
      "0     Go.         Ve.\n",
      "1     Go.       Vete.\n",
      "2     Go.       Vaya.\n",
      "3     Go.     Váyase.\n",
      "4     Hi.       Hola.\n",
      "5    Run!     ¡Corre!\n",
      "6    Run.     Corred.\n",
      "7    Who?     ¿Quién?\n",
      "8   Fire!     ¡Fuego!\n",
      "9   Fire!  ¡Incendio!\n"
     ]
    }
   ],
   "source": [
    "df_spanish=pd.read_csv(spanish_file_path)\n",
    "\n",
    "# renaming the names\n",
    "new_column_names={'english':'English','spanish':'Spanish'}\n",
    "df_spanish=df_spanish.rename(columns=new_column_names)\n",
    "\n",
    "print(df_spanish[:10])"
   ]
  }
 ],
 "metadata": {
  "kernelspec": {
   "display_name": "Python 3",
   "language": "python",
   "name": "python3"
  },
  "language_info": {
   "codemirror_mode": {
    "name": "ipython",
    "version": 3
   },
   "file_extension": ".py",
   "mimetype": "text/x-python",
   "name": "python",
   "nbconvert_exporter": "python",
   "pygments_lexer": "ipython3",
   "version": "3.12.0"
  }
 },
 "nbformat": 4,
 "nbformat_minor": 2
}
