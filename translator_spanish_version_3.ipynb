{
  "cells": [
    {
      "cell_type": "markdown",
      "metadata": {
        "id": "view-in-github",
        "colab_type": "text"
      },
      "source": [
        "<a href=\"https://colab.research.google.com/github/LlakmalGamage/Translator-Using-Transformers/blob/main/translator_spanish_version_3.ipynb\" target=\"_parent\"><img src=\"https://colab.research.google.com/assets/colab-badge.svg\" alt=\"Open In Colab\"/></a>"
      ]
    },
    {
      "cell_type": "markdown",
      "metadata": {
        "id": "N0ZG1jv6QSn3"
      },
      "source": [
        "# Data Loading"
      ]
    },
    {
      "cell_type": "code",
      "execution_count": 7,
      "metadata": {
        "id": "d0wtq3B3QSn6"
      },
      "outputs": [],
      "source": [
        "import pandas as pd\n",
        "\n",
        "spanish_file_path=\"data_spanish.csv\""
      ]
    },
    {
      "cell_type": "code",
      "execution_count": 8,
      "metadata": {
        "id": "SbXphiEpQSn7"
      },
      "outputs": [],
      "source": [
        "\n",
        "df2=pd.read_csv(spanish_file_path)"
      ]
    },
    {
      "cell_type": "code",
      "execution_count": 9,
      "metadata": {
        "id": "pnHOhO8BQSn7"
      },
      "outputs": [],
      "source": [
        "import random\n",
        "from tensorflow import keras\n",
        "from tensorflow.keras import layers\n",
        "import tensorflow as tf\n",
        "import string\n",
        "import re\n",
        "import csv\n",
        "\n"
      ]
    },
    {
      "cell_type": "code",
      "execution_count": 10,
      "metadata": {
        "colab": {
          "base_uri": "https://localhost:8080/",
          "height": 676
        },
        "id": "04BL8ZnsQSn7",
        "outputId": "2ecdc1a0-9c92-4b1b-ed40-72066274eecb"
      },
      "outputs": [
        {
          "output_type": "execute_result",
          "data": {
            "text/plain": [
              "   english              spanish\n",
              "0      Go.                  Ve.\n",
              "1      Go.                Vete.\n",
              "2      Go.                Vaya.\n",
              "3      Go.              Váyase.\n",
              "4      Hi.                Hola.\n",
              "5     Run!              ¡Corre!\n",
              "6     Run.              Corred.\n",
              "7     Who?              ¿Quién?\n",
              "8    Fire!              ¡Fuego!\n",
              "9    Fire!           ¡Incendio!\n",
              "10   Fire!           ¡Disparad!\n",
              "11   Help!              ¡Ayuda!\n",
              "12   Help!  ¡Socorro! ¡Auxilio!\n",
              "13   Help!            ¡Auxilio!\n",
              "14   Jump!              ¡Salta!\n",
              "15   Jump.               Salte.\n",
              "16   Stop!              ¡Parad!\n",
              "17   Stop!               ¡Para!\n",
              "18   Stop!               ¡Pare!\n",
              "19   Wait!             ¡Espera!"
            ],
            "text/html": [
              "\n",
              "  <div id=\"df-498e7077-7c4b-4498-9a8b-285a6364f846\" class=\"colab-df-container\">\n",
              "    <div>\n",
              "<style scoped>\n",
              "    .dataframe tbody tr th:only-of-type {\n",
              "        vertical-align: middle;\n",
              "    }\n",
              "\n",
              "    .dataframe tbody tr th {\n",
              "        vertical-align: top;\n",
              "    }\n",
              "\n",
              "    .dataframe thead th {\n",
              "        text-align: right;\n",
              "    }\n",
              "</style>\n",
              "<table border=\"1\" class=\"dataframe\">\n",
              "  <thead>\n",
              "    <tr style=\"text-align: right;\">\n",
              "      <th></th>\n",
              "      <th>english</th>\n",
              "      <th>spanish</th>\n",
              "    </tr>\n",
              "  </thead>\n",
              "  <tbody>\n",
              "    <tr>\n",
              "      <th>0</th>\n",
              "      <td>Go.</td>\n",
              "      <td>Ve.</td>\n",
              "    </tr>\n",
              "    <tr>\n",
              "      <th>1</th>\n",
              "      <td>Go.</td>\n",
              "      <td>Vete.</td>\n",
              "    </tr>\n",
              "    <tr>\n",
              "      <th>2</th>\n",
              "      <td>Go.</td>\n",
              "      <td>Vaya.</td>\n",
              "    </tr>\n",
              "    <tr>\n",
              "      <th>3</th>\n",
              "      <td>Go.</td>\n",
              "      <td>Váyase.</td>\n",
              "    </tr>\n",
              "    <tr>\n",
              "      <th>4</th>\n",
              "      <td>Hi.</td>\n",
              "      <td>Hola.</td>\n",
              "    </tr>\n",
              "    <tr>\n",
              "      <th>5</th>\n",
              "      <td>Run!</td>\n",
              "      <td>¡Corre!</td>\n",
              "    </tr>\n",
              "    <tr>\n",
              "      <th>6</th>\n",
              "      <td>Run.</td>\n",
              "      <td>Corred.</td>\n",
              "    </tr>\n",
              "    <tr>\n",
              "      <th>7</th>\n",
              "      <td>Who?</td>\n",
              "      <td>¿Quién?</td>\n",
              "    </tr>\n",
              "    <tr>\n",
              "      <th>8</th>\n",
              "      <td>Fire!</td>\n",
              "      <td>¡Fuego!</td>\n",
              "    </tr>\n",
              "    <tr>\n",
              "      <th>9</th>\n",
              "      <td>Fire!</td>\n",
              "      <td>¡Incendio!</td>\n",
              "    </tr>\n",
              "    <tr>\n",
              "      <th>10</th>\n",
              "      <td>Fire!</td>\n",
              "      <td>¡Disparad!</td>\n",
              "    </tr>\n",
              "    <tr>\n",
              "      <th>11</th>\n",
              "      <td>Help!</td>\n",
              "      <td>¡Ayuda!</td>\n",
              "    </tr>\n",
              "    <tr>\n",
              "      <th>12</th>\n",
              "      <td>Help!</td>\n",
              "      <td>¡Socorro! ¡Auxilio!</td>\n",
              "    </tr>\n",
              "    <tr>\n",
              "      <th>13</th>\n",
              "      <td>Help!</td>\n",
              "      <td>¡Auxilio!</td>\n",
              "    </tr>\n",
              "    <tr>\n",
              "      <th>14</th>\n",
              "      <td>Jump!</td>\n",
              "      <td>¡Salta!</td>\n",
              "    </tr>\n",
              "    <tr>\n",
              "      <th>15</th>\n",
              "      <td>Jump.</td>\n",
              "      <td>Salte.</td>\n",
              "    </tr>\n",
              "    <tr>\n",
              "      <th>16</th>\n",
              "      <td>Stop!</td>\n",
              "      <td>¡Parad!</td>\n",
              "    </tr>\n",
              "    <tr>\n",
              "      <th>17</th>\n",
              "      <td>Stop!</td>\n",
              "      <td>¡Para!</td>\n",
              "    </tr>\n",
              "    <tr>\n",
              "      <th>18</th>\n",
              "      <td>Stop!</td>\n",
              "      <td>¡Pare!</td>\n",
              "    </tr>\n",
              "    <tr>\n",
              "      <th>19</th>\n",
              "      <td>Wait!</td>\n",
              "      <td>¡Espera!</td>\n",
              "    </tr>\n",
              "  </tbody>\n",
              "</table>\n",
              "</div>\n",
              "    <div class=\"colab-df-buttons\">\n",
              "\n",
              "  <div class=\"colab-df-container\">\n",
              "    <button class=\"colab-df-convert\" onclick=\"convertToInteractive('df-498e7077-7c4b-4498-9a8b-285a6364f846')\"\n",
              "            title=\"Convert this dataframe to an interactive table.\"\n",
              "            style=\"display:none;\">\n",
              "\n",
              "  <svg xmlns=\"http://www.w3.org/2000/svg\" height=\"24px\" viewBox=\"0 -960 960 960\">\n",
              "    <path d=\"M120-120v-720h720v720H120Zm60-500h600v-160H180v160Zm220 220h160v-160H400v160Zm0 220h160v-160H400v160ZM180-400h160v-160H180v160Zm440 0h160v-160H620v160ZM180-180h160v-160H180v160Zm440 0h160v-160H620v160Z\"/>\n",
              "  </svg>\n",
              "    </button>\n",
              "\n",
              "  <style>\n",
              "    .colab-df-container {\n",
              "      display:flex;\n",
              "      gap: 12px;\n",
              "    }\n",
              "\n",
              "    .colab-df-convert {\n",
              "      background-color: #E8F0FE;\n",
              "      border: none;\n",
              "      border-radius: 50%;\n",
              "      cursor: pointer;\n",
              "      display: none;\n",
              "      fill: #1967D2;\n",
              "      height: 32px;\n",
              "      padding: 0 0 0 0;\n",
              "      width: 32px;\n",
              "    }\n",
              "\n",
              "    .colab-df-convert:hover {\n",
              "      background-color: #E2EBFA;\n",
              "      box-shadow: 0px 1px 2px rgba(60, 64, 67, 0.3), 0px 1px 3px 1px rgba(60, 64, 67, 0.15);\n",
              "      fill: #174EA6;\n",
              "    }\n",
              "\n",
              "    .colab-df-buttons div {\n",
              "      margin-bottom: 4px;\n",
              "    }\n",
              "\n",
              "    [theme=dark] .colab-df-convert {\n",
              "      background-color: #3B4455;\n",
              "      fill: #D2E3FC;\n",
              "    }\n",
              "\n",
              "    [theme=dark] .colab-df-convert:hover {\n",
              "      background-color: #434B5C;\n",
              "      box-shadow: 0px 1px 3px 1px rgba(0, 0, 0, 0.15);\n",
              "      filter: drop-shadow(0px 1px 2px rgba(0, 0, 0, 0.3));\n",
              "      fill: #FFFFFF;\n",
              "    }\n",
              "  </style>\n",
              "\n",
              "    <script>\n",
              "      const buttonEl =\n",
              "        document.querySelector('#df-498e7077-7c4b-4498-9a8b-285a6364f846 button.colab-df-convert');\n",
              "      buttonEl.style.display =\n",
              "        google.colab.kernel.accessAllowed ? 'block' : 'none';\n",
              "\n",
              "      async function convertToInteractive(key) {\n",
              "        const element = document.querySelector('#df-498e7077-7c4b-4498-9a8b-285a6364f846');\n",
              "        const dataTable =\n",
              "          await google.colab.kernel.invokeFunction('convertToInteractive',\n",
              "                                                    [key], {});\n",
              "        if (!dataTable) return;\n",
              "\n",
              "        const docLinkHtml = 'Like what you see? Visit the ' +\n",
              "          '<a target=\"_blank\" href=https://colab.research.google.com/notebooks/data_table.ipynb>data table notebook</a>'\n",
              "          + ' to learn more about interactive tables.';\n",
              "        element.innerHTML = '';\n",
              "        dataTable['output_type'] = 'display_data';\n",
              "        await google.colab.output.renderOutput(dataTable, element);\n",
              "        const docLink = document.createElement('div');\n",
              "        docLink.innerHTML = docLinkHtml;\n",
              "        element.appendChild(docLink);\n",
              "      }\n",
              "    </script>\n",
              "  </div>\n",
              "\n",
              "\n",
              "<div id=\"df-2da6f7b4-0b53-4bb9-8bed-84c2e2f239a3\">\n",
              "  <button class=\"colab-df-quickchart\" onclick=\"quickchart('df-2da6f7b4-0b53-4bb9-8bed-84c2e2f239a3')\"\n",
              "            title=\"Suggest charts\"\n",
              "            style=\"display:none;\">\n",
              "\n",
              "<svg xmlns=\"http://www.w3.org/2000/svg\" height=\"24px\"viewBox=\"0 0 24 24\"\n",
              "     width=\"24px\">\n",
              "    <g>\n",
              "        <path d=\"M19 3H5c-1.1 0-2 .9-2 2v14c0 1.1.9 2 2 2h14c1.1 0 2-.9 2-2V5c0-1.1-.9-2-2-2zM9 17H7v-7h2v7zm4 0h-2V7h2v10zm4 0h-2v-4h2v4z\"/>\n",
              "    </g>\n",
              "</svg>\n",
              "  </button>\n",
              "\n",
              "<style>\n",
              "  .colab-df-quickchart {\n",
              "      --bg-color: #E8F0FE;\n",
              "      --fill-color: #1967D2;\n",
              "      --hover-bg-color: #E2EBFA;\n",
              "      --hover-fill-color: #174EA6;\n",
              "      --disabled-fill-color: #AAA;\n",
              "      --disabled-bg-color: #DDD;\n",
              "  }\n",
              "\n",
              "  [theme=dark] .colab-df-quickchart {\n",
              "      --bg-color: #3B4455;\n",
              "      --fill-color: #D2E3FC;\n",
              "      --hover-bg-color: #434B5C;\n",
              "      --hover-fill-color: #FFFFFF;\n",
              "      --disabled-bg-color: #3B4455;\n",
              "      --disabled-fill-color: #666;\n",
              "  }\n",
              "\n",
              "  .colab-df-quickchart {\n",
              "    background-color: var(--bg-color);\n",
              "    border: none;\n",
              "    border-radius: 50%;\n",
              "    cursor: pointer;\n",
              "    display: none;\n",
              "    fill: var(--fill-color);\n",
              "    height: 32px;\n",
              "    padding: 0;\n",
              "    width: 32px;\n",
              "  }\n",
              "\n",
              "  .colab-df-quickchart:hover {\n",
              "    background-color: var(--hover-bg-color);\n",
              "    box-shadow: 0 1px 2px rgba(60, 64, 67, 0.3), 0 1px 3px 1px rgba(60, 64, 67, 0.15);\n",
              "    fill: var(--button-hover-fill-color);\n",
              "  }\n",
              "\n",
              "  .colab-df-quickchart-complete:disabled,\n",
              "  .colab-df-quickchart-complete:disabled:hover {\n",
              "    background-color: var(--disabled-bg-color);\n",
              "    fill: var(--disabled-fill-color);\n",
              "    box-shadow: none;\n",
              "  }\n",
              "\n",
              "  .colab-df-spinner {\n",
              "    border: 2px solid var(--fill-color);\n",
              "    border-color: transparent;\n",
              "    border-bottom-color: var(--fill-color);\n",
              "    animation:\n",
              "      spin 1s steps(1) infinite;\n",
              "  }\n",
              "\n",
              "  @keyframes spin {\n",
              "    0% {\n",
              "      border-color: transparent;\n",
              "      border-bottom-color: var(--fill-color);\n",
              "      border-left-color: var(--fill-color);\n",
              "    }\n",
              "    20% {\n",
              "      border-color: transparent;\n",
              "      border-left-color: var(--fill-color);\n",
              "      border-top-color: var(--fill-color);\n",
              "    }\n",
              "    30% {\n",
              "      border-color: transparent;\n",
              "      border-left-color: var(--fill-color);\n",
              "      border-top-color: var(--fill-color);\n",
              "      border-right-color: var(--fill-color);\n",
              "    }\n",
              "    40% {\n",
              "      border-color: transparent;\n",
              "      border-right-color: var(--fill-color);\n",
              "      border-top-color: var(--fill-color);\n",
              "    }\n",
              "    60% {\n",
              "      border-color: transparent;\n",
              "      border-right-color: var(--fill-color);\n",
              "    }\n",
              "    80% {\n",
              "      border-color: transparent;\n",
              "      border-right-color: var(--fill-color);\n",
              "      border-bottom-color: var(--fill-color);\n",
              "    }\n",
              "    90% {\n",
              "      border-color: transparent;\n",
              "      border-bottom-color: var(--fill-color);\n",
              "    }\n",
              "  }\n",
              "</style>\n",
              "\n",
              "  <script>\n",
              "    async function quickchart(key) {\n",
              "      const quickchartButtonEl =\n",
              "        document.querySelector('#' + key + ' button');\n",
              "      quickchartButtonEl.disabled = true;  // To prevent multiple clicks.\n",
              "      quickchartButtonEl.classList.add('colab-df-spinner');\n",
              "      try {\n",
              "        const charts = await google.colab.kernel.invokeFunction(\n",
              "            'suggestCharts', [key], {});\n",
              "      } catch (error) {\n",
              "        console.error('Error during call to suggestCharts:', error);\n",
              "      }\n",
              "      quickchartButtonEl.classList.remove('colab-df-spinner');\n",
              "      quickchartButtonEl.classList.add('colab-df-quickchart-complete');\n",
              "    }\n",
              "    (() => {\n",
              "      let quickchartButtonEl =\n",
              "        document.querySelector('#df-2da6f7b4-0b53-4bb9-8bed-84c2e2f239a3 button');\n",
              "      quickchartButtonEl.style.display =\n",
              "        google.colab.kernel.accessAllowed ? 'block' : 'none';\n",
              "    })();\n",
              "  </script>\n",
              "</div>\n",
              "\n",
              "    </div>\n",
              "  </div>\n"
            ],
            "application/vnd.google.colaboratory.intrinsic+json": {
              "type": "dataframe",
              "variable_name": "df2"
            }
          },
          "metadata": {},
          "execution_count": 10
        }
      ],
      "source": [
        "df2.head(20)"
      ]
    },
    {
      "cell_type": "code",
      "execution_count": 11,
      "metadata": {
        "colab": {
          "base_uri": "https://localhost:8080/"
        },
        "id": "6o5XBj0NQSn7",
        "outputId": "0e99f27c-2d33-4bbe-a4f3-6e70ca590caf"
      },
      "outputs": [
        {
          "output_type": "stream",
          "name": "stdout",
          "text": [
            "You can't view Flash content on an iPad. However, you can easily email yourself the URLs of these web pages and view that content on your regular computer when you get home.\n",
            "A mistake young people often make is to start learning too many languages at the same time, as they underestimate the difficulties and overestimate their own ability to learn them.\n",
            "No matter how much you try to convince people that chocolate is vanilla, it'll still be chocolate, even though you may manage to convince yourself and a few others that it's vanilla.\n",
            "In 1969, Roger Miller recorded a song called \"You Don't Want My Love.\" Today, this song is better known as \"In the Summer Time.\" It's the first song he wrote and sang that became popular.\n",
            "A child who is a native speaker usually knows many things about his or her language that a non-native speaker who has been studying for years still does not know and perhaps will never know.\n",
            "There are four main causes of alcohol-related death. Injury from car accidents or violence is one. Diseases like cirrhosis of the liver, cancer, heart and blood system diseases are the others.\n",
            "There are mothers and fathers who will lie awake after the children fall asleep and wonder how they'll make the mortgage, or pay their doctor's bills, or save enough for their child's college education.\n",
            "A carbon footprint is the amount of carbon dioxide pollution that we produce as a result of our activities. Some people try to reduce their carbon footprint because they are concerned about climate change.\n",
            "Since there are usually multiple websites on any given topic, I usually just click the back button when I arrive on any webpage that has pop-up advertising. I just go to the next page found by Google and hope for something less irritating.\n",
            "If you want to sound like a native speaker, you must be willing to practice saying the same sentence over and over in the same way that banjo players practice the same phrase over and over until they can play it correctly and at the desired tempo.\n"
          ]
        }
      ],
      "source": [
        "first_column_values_last_10_rows=df2['english'].tail(10)\n",
        "\n",
        "\n",
        "paragraph = '\\n'.join(first_column_values_last_10_rows)\n",
        "# Print the paragraph\n",
        "print(paragraph)"
      ]
    },
    {
      "cell_type": "code",
      "execution_count": 12,
      "metadata": {
        "colab": {
          "base_uri": "https://localhost:8080/"
        },
        "id": "PFE_SwaSQSn8",
        "outputId": "553f823b-2919-4329-bad7-c2201b5542ad"
      },
      "outputs": [
        {
          "output_type": "execute_result",
          "data": {
            "text/plain": [
              "118964"
            ]
          },
          "metadata": {},
          "execution_count": 12
        }
      ],
      "source": [
        "len(df2)"
      ]
    },
    {
      "cell_type": "markdown",
      "metadata": {
        "id": "a0ZEkhCcQSn8"
      },
      "source": [
        "# Split the English and german translation pairs"
      ]
    },
    {
      "cell_type": "code",
      "execution_count": 13,
      "metadata": {
        "id": "JTexDisnQSn8"
      },
      "outputs": [],
      "source": [
        "#common function for both spanish and german\n",
        "\n",
        "class split_pairs:\n",
        " def split_pairs_method(self,df1):\n",
        "  text_pairs=[]\n",
        "\n",
        "  for i in range(len(df1)):\n",
        "    english,language=df1[\"english\"][i],df1[\"spanish\"][i]\n",
        "    language=\"[start] \" + language + \" [end]\"\n",
        "    text_pairs.append((english,language))\n",
        "\n",
        "  return text_pairs\n"
      ]
    },
    {
      "cell_type": "code",
      "execution_count": 14,
      "metadata": {
        "id": "GxCLV26oQSn8"
      },
      "outputs": [],
      "source": [
        "#randomly selecting that if the above function work\n",
        "class random_pair_test:\n",
        "  def random_test_method(self,text_pairs):\n",
        "   for i in range(3):\n",
        "    print(random.choice(text_pairs))\n"
      ]
    },
    {
      "cell_type": "code",
      "execution_count": 15,
      "metadata": {
        "colab": {
          "base_uri": "https://localhost:8080/"
        },
        "id": "CWz-4aHrQSn8",
        "outputId": "06fbf042-db40-49ab-a1ca-5659ed696fc1"
      },
      "outputs": [
        {
          "output_type": "stream",
          "name": "stdout",
          "text": [
            "('Life is tough.', '[start] La vida es dura. [end]')\n",
            "('I wish I had been with her then.', '[start] Desearía haber estado con ella entonces. [end]')\n",
            "('Tom is a very busy person.', '[start] Tom es una persona muy ocupada. [end]')\n"
          ]
        }
      ],
      "source": [
        "#pairing for german text\n",
        "\n",
        "spanish_text_pairs=split_pairs().split_pairs_method(df2)\n",
        "\n",
        "random_pair_test().random_test_method(spanish_text_pairs)"
      ]
    },
    {
      "cell_type": "markdown",
      "metadata": {
        "id": "ONBS7oUKQSn8"
      },
      "source": [
        "# Randomizing the data"
      ]
    },
    {
      "cell_type": "code",
      "execution_count": 16,
      "metadata": {
        "id": "NMqM0bX4QSn9"
      },
      "outputs": [],
      "source": [
        "random.shuffle(spanish_text_pairs)"
      ]
    },
    {
      "cell_type": "markdown",
      "metadata": {
        "id": "t9jf4gG5QSn9"
      },
      "source": [
        "# Split the data into training, validation,testing"
      ]
    },
    {
      "cell_type": "code",
      "execution_count": 17,
      "metadata": {
        "id": "fu-sAp4xQSn9"
      },
      "outputs": [],
      "source": [
        "#class for splitting text pairs in to train,test,validation\n",
        "class splitting:\n",
        "    def splitting_method(self,text_pairs):\n",
        "        num_val_sample=int(0.15*len(text_pairs))\n",
        "        num_train_samples=len(text_pairs) - 2 * num_val_sample\n",
        "        train_pairs=text_pairs[:num_train_samples]\n",
        "        val_pairs=text_pairs[num_train_samples:num_train_samples+num_val_sample]\n",
        "        test_pairs=text_pairs[num_train_samples+num_val_sample:]\n",
        "\n",
        "        print(\"Total Sentences: \",len(text_pairs))\n",
        "        print(\"Training set size: \",len(train_pairs))\n",
        "        print(\"Validation set size: \",len(val_pairs))\n",
        "        print(\"Testng set size: \",len(test_pairs))\n",
        "        return train_pairs,val_pairs,test_pairs\n",
        "\n"
      ]
    },
    {
      "cell_type": "code",
      "execution_count": 18,
      "metadata": {
        "colab": {
          "base_uri": "https://localhost:8080/"
        },
        "id": "4CEDavS5QSn9",
        "outputId": "69ecab44-830c-4680-9646-aa7fbeedf62b"
      },
      "outputs": [
        {
          "output_type": "stream",
          "name": "stdout",
          "text": [
            "Total Sentences:  118964\n",
            "Training set size:  83276\n",
            "Validation set size:  17844\n",
            "Testng set size:  17844\n"
          ]
        }
      ],
      "source": [
        "spanish_train_pairs,spanish_val_pairs,spanish_test_pairs=splitting().splitting_method(spanish_text_pairs)\n"
      ]
    },
    {
      "cell_type": "code",
      "execution_count": 19,
      "metadata": {
        "colab": {
          "base_uri": "https://localhost:8080/"
        },
        "id": "3pOw65VxQSn9",
        "outputId": "23a4fbf1-6bf7-4fb2-ef55-fe4cb96f851e"
      },
      "outputs": [
        {
          "output_type": "stream",
          "name": "stdout",
          "text": [
            "118964\n"
          ]
        }
      ],
      "source": [
        "print(len(spanish_test_pairs)+len(spanish_train_pairs)+len(spanish_val_pairs))"
      ]
    },
    {
      "cell_type": "code",
      "execution_count": 20,
      "metadata": {
        "colab": {
          "base_uri": "https://localhost:8080/"
        },
        "id": "4b1WfhLtQSn9",
        "outputId": "5f7c5766-723f-442d-daad-3bafdb047512"
      },
      "outputs": [
        {
          "output_type": "stream",
          "name": "stdout",
          "text": [
            "('Come along with us.', '[start] Síguenos. [end]')\n"
          ]
        }
      ],
      "source": [
        "print(spanish_val_pairs[200])"
      ]
    },
    {
      "cell_type": "markdown",
      "metadata": {
        "id": "6aBuMqKeQSn9"
      },
      "source": [
        "# Removing Puncuations"
      ]
    },
    {
      "cell_type": "code",
      "execution_count": 21,
      "metadata": {
        "colab": {
          "base_uri": "https://localhost:8080/",
          "height": 36
        },
        "id": "3VWCgQzrQSn-",
        "outputId": "85c99b0e-927a-4be1-b61b-c45aae969e68"
      },
      "outputs": [
        {
          "output_type": "execute_result",
          "data": {
            "text/plain": [
              "'8'"
            ],
            "application/vnd.google.colaboratory.intrinsic+json": {
              "type": "string"
            }
          },
          "metadata": {},
          "execution_count": 21
        }
      ],
      "source": [
        "strip_chars = string.punctuation + \"¿\"\n",
        "strip_chars = strip_chars.replace(\"[\", \"\")\n",
        "strip_chars = strip_chars.replace(\"]\", \"\")\n",
        "\n",
        "\n",
        "f\"[{re.escape(strip_chars)}]\"\n",
        "\n",
        "f\"{5+3}\""
      ]
    },
    {
      "cell_type": "markdown",
      "metadata": {
        "id": "hC2pkVMvQSn-"
      },
      "source": [
        "# Vectorizing the English and spanish text pairs"
      ]
    },
    {
      "cell_type": "code",
      "execution_count": 22,
      "metadata": {
        "id": "bDTsAh84QSn-"
      },
      "outputs": [],
      "source": [
        "def custom_standardization(input_string):\n",
        "    lowercase=tf.strings.lower(input_string)\n",
        "    return tf.strings.regex_replace(lowercase,f\"[{re.escape(strip_chars)}]\", \"\")\n",
        "\n",
        "vocab_size=15000\n",
        "sequence_length=20\n",
        "\n",
        "source_vectorization=layers.TextVectorization(\n",
        "    max_tokens=vocab_size,\n",
        "    output_mode=\"int\",\n",
        "    output_sequence_length=sequence_length,\n",
        ")\n",
        "\n",
        "target_vectorization=layers.TextVectorization(\n",
        "    max_tokens=vocab_size,\n",
        "    output_mode=\"int\",\n",
        "    output_sequence_length=sequence_length+1,\n",
        "    standardize=custom_standardization,\n",
        ")\n",
        "\n",
        "train_english_texts=[pair[0] for pair in spanish_train_pairs]\n",
        "train_spanish_texts=[pair[1] for pair in spanish_train_pairs]\n",
        "\n",
        "source_vectorization.adapt(train_english_texts)\n",
        "target_vectorization.adapt(train_spanish_texts)"
      ]
    },
    {
      "cell_type": "code",
      "execution_count": 23,
      "metadata": {
        "colab": {
          "base_uri": "https://localhost:8080/"
        },
        "id": "2MOw15MTQSn-",
        "outputId": "a199c0c0-75d2-4afc-98ca-ef7848ab10f3"
      },
      "outputs": [
        {
          "output_type": "stream",
          "name": "stdout",
          "text": [
            "I don't feel like doing anything today.\n",
            "[start] Hoy no tengo ganas de hacer nada. [end]\n",
            "<keras.src.layers.preprocessing.text_vectorization.TextVectorization object at 0x7b550fa53910>\n"
          ]
        }
      ],
      "source": [
        "print(train_english_texts[1])\n",
        "print(train_spanish_texts[1])\n",
        "\n",
        "print(source_vectorization)"
      ]
    },
    {
      "cell_type": "code",
      "execution_count": 24,
      "metadata": {
        "colab": {
          "base_uri": "https://localhost:8080/"
        },
        "id": "G5sLgImmQSn-",
        "outputId": "2131fff2-f34f-4300-f555-7574343b907a"
      },
      "outputs": [
        {
          "output_type": "stream",
          "name": "stdout",
          "text": [
            "[(\"I don't feel like doing anything today.\", '[start] Hoy no tengo ganas de hacer nada. [end]'), ('When did he go to Europe?', '[start] ¿Cuándo se fue a Europa? [end]'), ('Where are the apples?', '[start] ¿Dónde están las manzanas? [end]'), ('Which brand do you prefer?', '[start] ¿Qué marca prefieres? [end]')]\n"
          ]
        }
      ],
      "source": [
        "print(spanish_train_pairs[1:5])"
      ]
    },
    {
      "cell_type": "markdown",
      "metadata": {
        "id": "l3s0jIZsQSn-"
      },
      "source": [
        "# Preparing datasets for the translation task"
      ]
    },
    {
      "cell_type": "code",
      "execution_count": 25,
      "metadata": {
        "colab": {
          "base_uri": "https://localhost:8080/"
        },
        "id": "9t-RDOfPQSn_",
        "outputId": "a796a462-8cd0-4a44-a2dd-60cf0eca722d"
      },
      "outputs": [
        {
          "output_type": "stream",
          "name": "stdout",
          "text": [
            "inputs['english'].shape: (64, 20)\n",
            "inputs['spanish'].shape: (64, 20)\n",
            "targets.shape: (64, 20)\n"
          ]
        }
      ],
      "source": [
        "batch_size=64\n",
        "\n",
        "def format_dataset(eng,spn):\n",
        "    eng=source_vectorization(eng)\n",
        "    spn=target_vectorization(spn)\n",
        "    return ({\"english\":eng,\n",
        "             \"spanish\":spn[:,:-1],\n",
        "             },spn[:,1:])\n",
        "\n",
        "def make_dataset(pairs):\n",
        "    eng_texts,spn_texts=zip(*pairs)\n",
        "    eng_texts=list(eng_texts)\n",
        "    spn_texts=list(spn_texts)\n",
        "    dataset=tf.data.Dataset.from_tensor_slices((eng_texts,spn_texts))\n",
        "    dataset=dataset.batch(batch_size)\n",
        "    dataset=dataset.map(format_dataset,num_parallel_calls=4)\n",
        "\n",
        "    return dataset.shuffle(2048).prefetch(16).cache()\n",
        "\n",
        "train_data=make_dataset(spanish_train_pairs)\n",
        "val_data=make_dataset(spanish_val_pairs)\n",
        "\n",
        "# print(train_data)\n",
        "# print(val_data)\n",
        "\n",
        "for inputs, targets in train_data.take(1):\n",
        "    print(f\"inputs['english'].shape: {inputs['english'].shape}\")\n",
        "    print(f\"inputs['spanish'].shape: {inputs['spanish'].shape}\")\n",
        "    print(f\"targets.shape: {targets.shape}\")\n",
        "\n"
      ]
    },
    {
      "cell_type": "code",
      "execution_count": 26,
      "metadata": {
        "colab": {
          "base_uri": "https://localhost:8080/"
        },
        "id": "DQVEkF7oQSn_",
        "outputId": "5851da77-ff44-49cb-91f9-2a640e6b3d7b"
      },
      "outputs": [
        {
          "output_type": "stream",
          "name": "stdout",
          "text": [
            "({'english': array([[  44,   67, 1774, ...,    0,    0,    0],\n",
            "       [  49,   14,   28, ...,    0,    0,    0],\n",
            "       [  19,  376,  164, ...,    0,    0,    0],\n",
            "       ...,\n",
            "       [   6,   54,   68, ...,    0,    0,    0],\n",
            "       [  13,   43,   83, ...,    0,    0,    0],\n",
            "       [   6,   58,   87, ...,    0,    0,    0]]), 'spanish': array([[  2,  12,  18, ...,   0,   0,   0],\n",
            "       [  2,  88, 364, ...,   0,   0,   0],\n",
            "       [  2,  23, 425, ...,   0,   0,   0],\n",
            "       ...,\n",
            "       [  2,   8,   7, ...,   0,   0,   0],\n",
            "       [  2,  59, 175, ...,   0,   0,   0],\n",
            "       [  2,   8,   7, ...,   0,   0,   0]])}, array([[  12,   18, 1929, ...,    0,    0,    0],\n",
            "       [  88,  364,   10, ...,    0,    0,    0],\n",
            "       [  23,  425,   14, ...,    0,    0,    0],\n",
            "       ...,\n",
            "       [   8,    7,  136, ...,    0,    0,    0],\n",
            "       [  59,  175,  133, ...,    0,    0,    0],\n",
            "       [   8,    7,   26, ...,    0,    0,    0]]))\n"
          ]
        }
      ],
      "source": [
        "print(list(train_data.as_numpy_iterator())[50])"
      ]
    },
    {
      "cell_type": "markdown",
      "metadata": {
        "id": "p4FpSuqPQSn_"
      },
      "source": [
        "# Transformers encoder implemented as a subclassed Layer"
      ]
    },
    {
      "cell_type": "code",
      "execution_count": 27,
      "metadata": {
        "id": "nyRAeFDgQSn_"
      },
      "outputs": [],
      "source": [
        "class TransformerEncoder(layers.Layer):\n",
        "    def __init__(self,embed_dim,dense_dim,num_heads,**kwargs):\n",
        "        super().__init__(**kwargs)\n",
        "        self.embed_dim=embed_dim\n",
        "        self.dense_dim=dense_dim\n",
        "        self.num_heads=num_heads\n",
        "        self.attention=layers.MultiHeadAttention(\n",
        "           num_heads=num_heads,key_dim=embed_dim)\n",
        "        self.dense_proj=keras.Sequential(\n",
        "            [layers.Dense(dense_dim,activation=\"relu\"),\n",
        "             layers.Dense(embed_dim),]\n",
        "        )\n",
        "        self.layernorm_1=layers.LayerNormalization()\n",
        "        self.layernorm_2=layers.LayerNormalization()\n",
        "\n",
        "    def call(self,inputs,mask=None):\n",
        "        if mask is not None:\n",
        "            mask=mask[:,tf.newaxis,:]\n",
        "        attention_output=self.attention(\n",
        "            inputs,inputs,attention_mask=mask\n",
        "        )\n",
        "        project_input=self.layernorm_1(inputs+attention_output)\n",
        "        project_output=self.dense_proj(project_input)\n",
        "\n",
        "        return self.layernorm_2(project_input+project_output)\n",
        "\n",
        "    def get_config(self):\n",
        "        config=super().get_config()\n",
        "        config.update({\n",
        "            \"embed_dim\": self.embed_dim,\n",
        "            \"num_heads\": self.num_heads,\n",
        "            \"dense_dim\": self.dense_dim,\n",
        "        })\n",
        "        return config"
      ]
    },
    {
      "cell_type": "markdown",
      "metadata": {
        "id": "asuNvD-cQSn_"
      },
      "source": [
        "# Transformer decorder"
      ]
    },
    {
      "cell_type": "code",
      "execution_count": 28,
      "metadata": {
        "id": "vP9OTqcxQSn_"
      },
      "outputs": [],
      "source": [
        "class TransformerDecoder(layers.Layer):\n",
        "    def __init__(self,embed_dim,dense_dim,num_heads,**kwargs):\n",
        "        super().__init__(**kwargs)\n",
        "        self.embed_dim=embed_dim\n",
        "        self.dense_dim=dense_dim\n",
        "        self.num_heads=num_heads\n",
        "        self.attention_1=layers.MultiHeadAttention(\n",
        "            num_heads=num_heads,key_dim=embed_dim)\n",
        "        self.attention_2=layers.MultiHeadAttention(\n",
        "            num_heads=num_heads,key_dim=embed_dim)\n",
        "        self.dense_proj=keras.Sequential(\n",
        "            [layers.Dense(dense_dim,activation=\"relu\"),\n",
        "             layers.Dense(embed_dim),]\n",
        "        )\n",
        "        self.layernorm_1=layers.LayerNormalization()\n",
        "        self.layernorm_2=layers.LayerNormalization()\n",
        "        self.layernorm_3=layers.LayerNormalization()\n",
        "        self.supports_masking=True\n",
        "\n",
        "    def get_config(self):\n",
        "        config=super().get_config()\n",
        "        config.update({\n",
        "            \"embed_dim\": self.embed_dim,\n",
        "            \"num_heads\": self.num_heads,\n",
        "            \"dense_dim\": self.dense_dim,\n",
        "        })\n",
        "        return config\n",
        "\n",
        "    def get_casual_attention_mask(self,inputs):\n",
        "        input_shape=tf.shape(inputs)\n",
        "        batch_size,sequence_length=input_shape[0],input_shape[1]\n",
        "        i=tf.range(sequence_length)[:,tf.newaxis]\n",
        "        j=tf.range(sequence_length)\n",
        "        mask=tf.cast(i>=j,dtype=\"int32\")\n",
        "        mask=tf.reshape(mask,(1,input_shape[1],input_shape[1]))\n",
        "        mult=tf.concat(\n",
        "            [tf.expand_dims(batch_size,-1),\n",
        "             tf.constant([1,1],dtype=tf.int32)],axis=0)\n",
        "\n",
        "        return tf.tile(mask,mult)\n",
        "\n",
        "\n",
        "    def call(self,inputs,encorder_outputs,mask=None):\n",
        "        casual_mask=self.get_casual_attention_mask(inputs)\n",
        "        if mask is not None:\n",
        "            padding_mask=tf.cast(\n",
        "                mask[:,tf.newaxis,:],dtype=\"int32\"\n",
        "            )\n",
        "            padding_mask=tf.minimum(padding_mask,casual_mask)\n",
        "        else:\n",
        "            padding_mask=mask\n",
        "        attention_output_1=self.attention_1(\n",
        "            query=inputs,\n",
        "            value=inputs,\n",
        "            key=inputs,\n",
        "            attention_mask=casual_mask\n",
        "        )\n",
        "        attention_output_1=self.layernorm_1(inputs+attention_output_1)\n",
        "        attention_output_2=self.attention_2(\n",
        "            query=attention_output_1,\n",
        "            value=encorder_outputs,\n",
        "            key=encorder_outputs,\n",
        "            attention_mask=padding_mask,\n",
        "        )\n",
        "        attention_output_2=self.layernorm_2(\n",
        "            attention_output_1+attention_output_2\n",
        "        )\n",
        "        proj_output=self.dense_proj(attention_output_2)\n",
        "        return self.layernorm_3(attention_output_2+proj_output)\n",
        "\n",
        "\n"
      ]
    },
    {
      "cell_type": "markdown",
      "metadata": {
        "id": "K0Dt2Pj_QSoA"
      },
      "source": [
        "# Positional Encoding"
      ]
    },
    {
      "cell_type": "code",
      "execution_count": 29,
      "metadata": {
        "id": "W8JH3MDzQSoA"
      },
      "outputs": [],
      "source": [
        "class PositionalEmbedding(layers.Layer):\n",
        "    def __init__(self,sequence_length,input_dim,output_dim,**kwargs):\n",
        "        super().__init__(**kwargs)\n",
        "        self.token_embeddings=layers.Embedding(\n",
        "            input_dim=input_dim,output_dim=output_dim)\n",
        "        self.position_embeddings=layers.Embedding(\n",
        "            input_dim=sequence_length,output_dim=output_dim)\n",
        "        self.sequence_length=sequence_length\n",
        "        self.input_dim=input_dim\n",
        "        self.output_dim=output_dim\n",
        "\n",
        "    def call(self,inputs):\n",
        "        length=tf.shape(inputs)[-1]\n",
        "        positions=tf.range(start=0,limit=length,delta=1)\n",
        "        embedded_tokens=self.token_embeddings(inputs)\n",
        "        embedded_positions=self.position_embeddings(positions)\n",
        "\n",
        "        return embedded_tokens + embedded_positions\n",
        "\n",
        "\n",
        "    def compute_mask(self, inputs, mask=None):\n",
        "        return tf.not_equal(inputs, 0)\n",
        "\n",
        "    def get_config(self):\n",
        "        config=super(PositionalEmbedding,self).get_config()\n",
        "        config.update({\n",
        "            \"output_dim\": self.output_dim,\n",
        "            \"sequence_length\": self.sequence_length,\n",
        "            \"input_dim\": self.input_dim,\n",
        "        })\n",
        "        return config"
      ]
    },
    {
      "cell_type": "code",
      "execution_count": 30,
      "metadata": {
        "id": "OJz24S2XQSoH"
      },
      "outputs": [],
      "source": [
        "# from tensorflow.python.framework.ops import disable_eager_execution\n",
        "# disable_eager_execution()"
      ]
    },
    {
      "cell_type": "markdown",
      "metadata": {
        "id": "JZN5UgCOQSoH"
      },
      "source": [
        "# End-to-End Transformer"
      ]
    },
    {
      "cell_type": "code",
      "execution_count": 31,
      "metadata": {
        "id": "QYCGfZpwQSoH"
      },
      "outputs": [],
      "source": [
        "embed_dim=256\n",
        "dense_dim=2048\n",
        "num_heads=8\n",
        "\n",
        "encoder_inputs=keras.Input(shape=(None,), dtype=\"int64\", name=\"english\")\n",
        "x=PositionalEmbedding(sequence_length,vocab_size,embed_dim)(encoder_inputs)\n",
        "encoder_outputs=TransformerEncoder(embed_dim,dense_dim,num_heads)(x)\n",
        "\n",
        "decorder_inputs=keras.Input(shape=(None,),dtype=\"int64\",name=\"spanish\")\n",
        "x=PositionalEmbedding(sequence_length,vocab_size,embed_dim)(decorder_inputs)\n",
        "x=TransformerDecoder(embed_dim,dense_dim,num_heads)(x,encoder_outputs)\n",
        "x=layers.Dropout(0.5)(x)\n",
        "decorder_outputs=layers.Dense(vocab_size,activation=\"softmax\")(x)\n",
        "transformer_spanish=keras.Model([encoder_inputs,decorder_inputs],decorder_outputs)"
      ]
    },
    {
      "cell_type": "code",
      "execution_count": 32,
      "metadata": {
        "colab": {
          "base_uri": "https://localhost:8080/"
        },
        "id": "U_IQ5KACSRIa",
        "outputId": "b898a397-e3ec-4def-9dce-1fd8b6ff709d"
      },
      "outputs": [
        {
          "output_type": "stream",
          "name": "stdout",
          "text": [
            "Model: \"model\"\n",
            "__________________________________________________________________________________________________\n",
            " Layer (type)                Output Shape                 Param #   Connected to                  \n",
            "==================================================================================================\n",
            " english (InputLayer)        [(None, None)]               0         []                            \n",
            "                                                                                                  \n",
            " spanish (InputLayer)        [(None, None)]               0         []                            \n",
            "                                                                                                  \n",
            " positional_embedding (Posi  (None, None, 256)            3845120   ['english[0][0]']             \n",
            " tionalEmbedding)                                                                                 \n",
            "                                                                                                  \n",
            " positional_embedding_1 (Po  (None, None, 256)            3845120   ['spanish[0][0]']             \n",
            " sitionalEmbedding)                                                                               \n",
            "                                                                                                  \n",
            " transformer_encoder (Trans  (None, None, 256)            3155456   ['positional_embedding[0][0]']\n",
            " formerEncoder)                                                                                   \n",
            "                                                                                                  \n",
            " transformer_decoder (Trans  (None, None, 256)            5259520   ['positional_embedding_1[0][0]\n",
            " formerDecoder)                                                     ',                            \n",
            "                                                                     'transformer_encoder[0][0]'] \n",
            "                                                                                                  \n",
            " dropout (Dropout)           (None, None, 256)            0         ['transformer_decoder[0][0]'] \n",
            "                                                                                                  \n",
            " dense_4 (Dense)             (None, None, 15000)          3855000   ['dropout[0][0]']             \n",
            "                                                                                                  \n",
            "==================================================================================================\n",
            "Total params: 19960216 (76.14 MB)\n",
            "Trainable params: 19960216 (76.14 MB)\n",
            "Non-trainable params: 0 (0.00 Byte)\n",
            "__________________________________________________________________________________________________\n"
          ]
        }
      ],
      "source": [
        "transformer_spanish.summary()"
      ]
    },
    {
      "cell_type": "markdown",
      "metadata": {
        "id": "XepQ7qXITPOP"
      },
      "source": [
        "# Training the sequence-to-sequence Transformer"
      ]
    },
    {
      "cell_type": "code",
      "execution_count": 33,
      "metadata": {
        "colab": {
          "base_uri": "https://localhost:8080/"
        },
        "id": "uFQ2g7CYSdft",
        "outputId": "e422a8de-80e7-4ab3-d3dd-1b3826f3acbc"
      },
      "outputs": [
        {
          "output_type": "stream",
          "name": "stdout",
          "text": [
            "Epoch 1/50\n",
            "1302/1302 [==============================] - 106s 75ms/step - loss: 3.7864 - accuracy: 0.4410 - val_loss: 2.8759 - val_accuracy: 0.5377\n",
            "Epoch 2/50\n",
            "1302/1302 [==============================] - 90s 69ms/step - loss: 2.8438 - accuracy: 0.5508 - val_loss: 2.5253 - val_accuracy: 0.5877\n",
            "Epoch 3/50\n",
            "1302/1302 [==============================] - 91s 70ms/step - loss: 2.5475 - accuracy: 0.5947 - val_loss: 2.3795 - val_accuracy: 0.6135\n",
            "Epoch 4/50\n",
            "1302/1302 [==============================] - 91s 70ms/step - loss: 2.3884 - accuracy: 0.6207 - val_loss: 2.3598 - val_accuracy: 0.6211\n",
            "Epoch 5/50\n",
            "1302/1302 [==============================] - 91s 70ms/step - loss: 2.2829 - accuracy: 0.6389 - val_loss: 2.3028 - val_accuracy: 0.6325\n",
            "Epoch 6/50\n",
            "1302/1302 [==============================] - 91s 70ms/step - loss: 2.2123 - accuracy: 0.6524 - val_loss: 2.3171 - val_accuracy: 0.6337\n",
            "Epoch 7/50\n",
            "1302/1302 [==============================] - 91s 70ms/step - loss: 2.1534 - accuracy: 0.6636 - val_loss: 2.3032 - val_accuracy: 0.6431\n",
            "Epoch 8/50\n",
            "1302/1302 [==============================] - 91s 70ms/step - loss: 2.0888 - accuracy: 0.6763 - val_loss: 2.2503 - val_accuracy: 0.6511\n",
            "Epoch 9/50\n",
            "1302/1302 [==============================] - 91s 70ms/step - loss: 2.0345 - accuracy: 0.6867 - val_loss: 2.2515 - val_accuracy: 0.6568\n",
            "Epoch 10/50\n",
            "1302/1302 [==============================] - 91s 70ms/step - loss: 1.9829 - accuracy: 0.6961 - val_loss: 2.2265 - val_accuracy: 0.6592\n",
            "Epoch 11/50\n",
            "1302/1302 [==============================] - 91s 70ms/step - loss: 1.9472 - accuracy: 0.7024 - val_loss: 2.2343 - val_accuracy: 0.6666\n",
            "Epoch 12/50\n",
            "1302/1302 [==============================] - 90s 69ms/step - loss: 1.9143 - accuracy: 0.7086 - val_loss: 2.2863 - val_accuracy: 0.6637\n",
            "Epoch 13/50\n",
            "1302/1302 [==============================] - 91s 70ms/step - loss: 1.8879 - accuracy: 0.7129 - val_loss: 2.2572 - val_accuracy: 0.6638\n",
            "Epoch 14/50\n",
            "1302/1302 [==============================] - 90s 69ms/step - loss: 1.8656 - accuracy: 0.7178 - val_loss: 2.3084 - val_accuracy: 0.6595\n",
            "Epoch 15/50\n",
            "1302/1302 [==============================] - 90s 69ms/step - loss: 1.8450 - accuracy: 0.7215 - val_loss: 2.2712 - val_accuracy: 0.6675\n",
            "Epoch 16/50\n",
            "1302/1302 [==============================] - 91s 70ms/step - loss: 1.8271 - accuracy: 0.7250 - val_loss: 2.3031 - val_accuracy: 0.6641\n",
            "Epoch 17/50\n",
            "1302/1302 [==============================] - 90s 69ms/step - loss: 1.8064 - accuracy: 0.7287 - val_loss: 2.3024 - val_accuracy: 0.6689\n",
            "Epoch 18/50\n",
            "1302/1302 [==============================] - 91s 70ms/step - loss: 1.7912 - accuracy: 0.7315 - val_loss: 2.3247 - val_accuracy: 0.6658\n",
            "Epoch 19/50\n",
            "1302/1302 [==============================] - 91s 70ms/step - loss: 1.7737 - accuracy: 0.7350 - val_loss: 2.3211 - val_accuracy: 0.6677\n",
            "Epoch 20/50\n",
            "1302/1302 [==============================] - 91s 70ms/step - loss: 1.7579 - accuracy: 0.7381 - val_loss: 2.3254 - val_accuracy: 0.6700\n",
            "Epoch 21/50\n",
            "1302/1302 [==============================] - 90s 69ms/step - loss: 1.7459 - accuracy: 0.7400 - val_loss: 2.3452 - val_accuracy: 0.6707\n",
            "Epoch 22/50\n",
            "1302/1302 [==============================] - 91s 70ms/step - loss: 1.7313 - accuracy: 0.7423 - val_loss: 2.3521 - val_accuracy: 0.6682\n",
            "Epoch 23/50\n",
            "1302/1302 [==============================] - 91s 70ms/step - loss: 1.7156 - accuracy: 0.7454 - val_loss: 2.3956 - val_accuracy: 0.6696\n",
            "Epoch 24/50\n",
            "1302/1302 [==============================] - 91s 70ms/step - loss: 1.6990 - accuracy: 0.7485 - val_loss: 2.3816 - val_accuracy: 0.6694\n",
            "Epoch 25/50\n",
            "1302/1302 [==============================] - 92s 70ms/step - loss: 1.6899 - accuracy: 0.7505 - val_loss: 2.4002 - val_accuracy: 0.6677\n",
            "Epoch 26/50\n",
            "1302/1302 [==============================] - 92s 71ms/step - loss: 1.6783 - accuracy: 0.7523 - val_loss: 2.4205 - val_accuracy: 0.6686\n",
            "Epoch 27/50\n",
            "1302/1302 [==============================] - 91s 70ms/step - loss: 1.6644 - accuracy: 0.7551 - val_loss: 2.4122 - val_accuracy: 0.6705\n",
            "Epoch 28/50\n",
            "1302/1302 [==============================] - 91s 70ms/step - loss: 1.6505 - accuracy: 0.7571 - val_loss: 2.4047 - val_accuracy: 0.6713\n",
            "Epoch 29/50\n",
            "1302/1302 [==============================] - 91s 70ms/step - loss: 1.6407 - accuracy: 0.7590 - val_loss: 2.4301 - val_accuracy: 0.6712\n",
            "Epoch 30/50\n",
            "1302/1302 [==============================] - 91s 70ms/step - loss: 1.6275 - accuracy: 0.7612 - val_loss: 2.4407 - val_accuracy: 0.6702\n",
            "Epoch 31/50\n",
            "1302/1302 [==============================] - 91s 70ms/step - loss: 1.6183 - accuracy: 0.7631 - val_loss: 2.4664 - val_accuracy: 0.6715\n",
            "Epoch 32/50\n",
            "1302/1302 [==============================] - 91s 70ms/step - loss: 1.6059 - accuracy: 0.7649 - val_loss: 2.4521 - val_accuracy: 0.6716\n",
            "Epoch 33/50\n",
            "1302/1302 [==============================] - 90s 69ms/step - loss: 1.5928 - accuracy: 0.7669 - val_loss: 2.5920 - val_accuracy: 0.6520\n",
            "Epoch 34/50\n",
            "1302/1302 [==============================] - 91s 70ms/step - loss: 1.5826 - accuracy: 0.7694 - val_loss: 2.4806 - val_accuracy: 0.6737\n",
            "Epoch 35/50\n",
            "1302/1302 [==============================] - 92s 70ms/step - loss: 1.5716 - accuracy: 0.7711 - val_loss: 2.5158 - val_accuracy: 0.6683\n",
            "Epoch 36/50\n",
            "1302/1302 [==============================] - 90s 69ms/step - loss: 1.5617 - accuracy: 0.7726 - val_loss: 2.5186 - val_accuracy: 0.6724\n",
            "Epoch 37/50\n",
            "1302/1302 [==============================] - 91s 70ms/step - loss: 1.5522 - accuracy: 0.7744 - val_loss: 2.5142 - val_accuracy: 0.6711\n",
            "Epoch 38/50\n",
            "1302/1302 [==============================] - 91s 70ms/step - loss: 1.5400 - accuracy: 0.7768 - val_loss: 2.5607 - val_accuracy: 0.6666\n",
            "Epoch 39/50\n",
            "1302/1302 [==============================] - 90s 69ms/step - loss: 1.5292 - accuracy: 0.7785 - val_loss: 2.5227 - val_accuracy: 0.6726\n",
            "Epoch 40/50\n",
            "1302/1302 [==============================] - 91s 70ms/step - loss: 1.5206 - accuracy: 0.7799 - val_loss: 2.5894 - val_accuracy: 0.6672\n",
            "Epoch 41/50\n",
            "1302/1302 [==============================] - 90s 69ms/step - loss: 1.5135 - accuracy: 0.7814 - val_loss: 2.5981 - val_accuracy: 0.6693\n",
            "Epoch 42/50\n",
            "1302/1302 [==============================] - 91s 70ms/step - loss: 1.5036 - accuracy: 0.7834 - val_loss: 2.5885 - val_accuracy: 0.6706\n",
            "Epoch 43/50\n",
            "1302/1302 [==============================] - 91s 70ms/step - loss: 1.4922 - accuracy: 0.7850 - val_loss: 2.5798 - val_accuracy: 0.6733\n",
            "Epoch 44/50\n",
            "1302/1302 [==============================] - 91s 70ms/step - loss: 1.4821 - accuracy: 0.7868 - val_loss: 2.6161 - val_accuracy: 0.6698\n",
            "Epoch 45/50\n",
            "1302/1302 [==============================] - 90s 70ms/step - loss: 1.4746 - accuracy: 0.7878 - val_loss: 2.6161 - val_accuracy: 0.6724\n",
            "Epoch 46/50\n",
            "1302/1302 [==============================] - 91s 70ms/step - loss: 1.4643 - accuracy: 0.7899 - val_loss: 2.6585 - val_accuracy: 0.6711\n",
            "Epoch 47/50\n",
            "1302/1302 [==============================] - 90s 69ms/step - loss: 1.4578 - accuracy: 0.7911 - val_loss: 2.6505 - val_accuracy: 0.6729\n",
            "Epoch 48/50\n",
            "1302/1302 [==============================] - 91s 70ms/step - loss: 1.4467 - accuracy: 0.7931 - val_loss: 2.6600 - val_accuracy: 0.6683\n",
            "Epoch 49/50\n",
            "1302/1302 [==============================] - 92s 71ms/step - loss: 1.4361 - accuracy: 0.7946 - val_loss: 2.6738 - val_accuracy: 0.6727\n",
            "Epoch 50/50\n",
            "1302/1302 [==============================] - 91s 70ms/step - loss: 1.4282 - accuracy: 0.7960 - val_loss: 2.6979 - val_accuracy: 0.6743\n"
          ]
        },
        {
          "output_type": "execute_result",
          "data": {
            "text/plain": [
              "<keras.src.callbacks.History at 0x7b54b391e7d0>"
            ]
          },
          "metadata": {},
          "execution_count": 33
        }
      ],
      "source": [
        "transformer_spanish.compile(\n",
        "    optimizer=\"rmsprop\",\n",
        "    loss=\"sparse_categorical_crossentropy\",\n",
        "    metrics=[\"accuracy\"]\n",
        ")\n",
        "\n",
        "transformer_spanish.fit(train_data,epochs=50,validation_data=val_data)"
      ]
    },
    {
      "cell_type": "code",
      "execution_count": 49,
      "metadata": {
        "id": "C0zjU_ZqagVO"
      },
      "outputs": [],
      "source": [
        "import numpy as np\n",
        "\n",
        "ger_vocab = target_vectorization.get_vocabulary()\n",
        "ger_index_lookup = dict(zip(range(len(ger_vocab)), ger_vocab))\n",
        "max_decoded_sentence_length = 20\n",
        "\n",
        "def decode_sequence(input_sentence):\n",
        "    tokenized_input_sentence = source_sentence = source_vectorization([input_sentence])\n",
        "    decoded_sentence = \"[start]\"\n",
        "\n",
        "    for i in range(max_decoded_sentence_length):\n",
        "        tokenized_target_sentence = target_vectorization([decoded_sentence])[:, :-1]\n",
        "        predictions = transformer_spanish([tokenized_input_sentence, tokenized_target_sentence])\n",
        "        sampled_token_index = np.argmax(predictions[0, i, :])\n",
        "        sampled_token = ger_index_lookup[sampled_token_index]\n",
        "        decoded_sentence += \" \" + sampled_token\n",
        "        if sampled_token == \"[end]\":\n",
        "            break\n",
        "\n",
        "    return decoded_sentence"
      ]
    },
    {
      "cell_type": "code",
      "execution_count": 50,
      "metadata": {
        "id": "PY_wqakzcGB1",
        "colab": {
          "base_uri": "https://localhost:8080/"
        },
        "outputId": "c83d1bb4-247a-435d-e65c-220db80a68bf"
      },
      "outputs": [
        {
          "output_type": "stream",
          "name": "stdout",
          "text": [
            "-\n",
            "There are no gods.\n",
            "[start] no hay ningún peor [end]\n",
            "-\n",
            "Tom put his wallet on top of the dresser.\n",
            "[start] tom puso su caja debajo de la [UNK] [end]\n",
            "-\n",
            "We should call Tom.\n",
            "[start] deberíamos llamar a tom [end]\n",
            "-\n",
            "I'll be there.\n",
            "[start] estaré allí [end]\n",
            "-\n",
            "What do you want me to say?\n",
            "[start] qué quieres que yo diga [end]\n",
            "-\n",
            "Yesterday, I bought a book.\n",
            "[start] compré un libro ayer [end]\n",
            "-\n",
            "I was concerned.\n",
            "[start] estaba preocupado [end]\n",
            "-\n",
            "We have arrived safe and sound.\n",
            "[start] hemos llegado a salvo y tom [end]\n",
            "-\n",
            "Are you saying that Tom can't understand French at all?\n",
            "[start] estás diciendo que no esperaba a tom nada de francés [end]\n",
            "-\n",
            "He graduated from Harvard.\n",
            "[start] Él se ha decidido en cantar [end]\n",
            "-\n",
            "We compared his work with hers.\n",
            "[start] [UNK] su trabajo con el suyo [end]\n",
            "-\n",
            "Finish this.\n",
            "[start] acabó esto [end]\n",
            "-\n",
            "She's smarter than him.\n",
            "[start] ella es lo inteligente que él [end]\n",
            "-\n",
            "Where do you think Tom went?\n",
            "[start] a dónde crees que fue tom [end]\n",
            "-\n",
            "He was given up for dead.\n",
            "[start] estaba [UNK] el pez [end]\n",
            "-\n",
            "The captain gave the order to abandon the ship.\n",
            "[start] el presidente dio la pala del barco [end]\n",
            "-\n",
            "Generally speaking, Japanese cars are popular overseas.\n",
            "[start] en general los autos japoneses son [UNK] de la [UNK] [end]\n",
            "-\n",
            "I assumed because we're brothers that I could trust you.\n",
            "[start] aprendí que todos los hombres estaban en las que puedo confiar en ti [end]\n",
            "-\n",
            "Here they come.\n",
            "[start] aquí están vendrá [end]\n",
            "-\n",
            "They'll like that.\n",
            "[start] les les gusta [end]\n"
          ]
        }
      ],
      "source": [
        "ger_eng_texts = [pair[0] for pair in spanish_test_pairs]\n",
        "for _ in range(20):\n",
        "    input_sentence = random.choice(ger_eng_texts)\n",
        "    print(\"-\")\n",
        "    print(input_sentence)\n",
        "    print(decode_sequence(input_sentence))"
      ]
    },
    {
      "cell_type": "code",
      "execution_count": 37,
      "metadata": {
        "id": "_YFgoVCYl_zb",
        "colab": {
          "base_uri": "https://localhost:8080/"
        },
        "outputId": "f741a6d6-6429-4103-e350-329065793586"
      },
      "outputs": [
        {
          "output_type": "stream",
          "name": "stdout",
          "text": [
            "Mounted at /content/drive\n"
          ]
        }
      ],
      "source": [
        "from google.colab import drive\n",
        "drive.mount('/content/drive')"
      ]
    },
    {
      "cell_type": "code",
      "execution_count": 38,
      "metadata": {
        "id": "5ERUlhqdmwhn"
      },
      "outputs": [],
      "source": [
        "transformer_spanish.save('/content/drive/My Drive/Translators/spanish_model')"
      ]
    }
  ],
  "metadata": {
    "accelerator": "GPU",
    "colab": {
      "gpuType": "T4",
      "provenance": [],
      "include_colab_link": true
    },
    "kernelspec": {
      "display_name": "Python 3",
      "name": "python3"
    },
    "language_info": {
      "codemirror_mode": {
        "name": "ipython",
        "version": 3
      },
      "file_extension": ".py",
      "mimetype": "text/x-python",
      "name": "python",
      "nbconvert_exporter": "python",
      "pygments_lexer": "ipython3",
      "version": "3.12.0"
    }
  },
  "nbformat": 4,
  "nbformat_minor": 0
}