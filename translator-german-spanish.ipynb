{
 "cells": [
  {
   "cell_type": "markdown",
   "metadata": {},
   "source": [
    "# Data Preprocessing"
   ]
  },
  {
   "cell_type": "code",
   "execution_count": 1,
   "metadata": {},
   "outputs": [
    {
     "name": "stderr",
     "output_type": "stream",
     "text": [
      "C:\\Users\\USER\\AppData\\Local\\Temp\\ipykernel_22272\\4080736814.py:1: DeprecationWarning: \n",
      "Pyarrow will become a required dependency of pandas in the next major release of pandas (pandas 3.0),\n",
      "(to allow more performant data types, such as the Arrow string type, and better interoperability with other libraries)\n",
      "but was not found to be installed on your system.\n",
      "If this would cause problems for you,\n",
      "please provide us feedback at https://github.com/pandas-dev/pandas/issues/54466\n",
      "        \n",
      "  import pandas as pd\n"
     ]
    }
   ],
   "source": [
    "import pandas as pd"
   ]
  },
  {
   "cell_type": "code",
   "execution_count": 2,
   "metadata": {},
   "outputs": [],
   "source": [
    "# german_file_path=\"Data_Sets/deu.txt\"\n",
    "# spanish_file_path=\"Data_Sets/data.csv\""
   ]
  },
  {
   "cell_type": "code",
   "execution_count": 3,
   "metadata": {},
   "outputs": [
    {
     "name": "stdout",
     "output_type": "stream",
     "text": [
      "   English                    German\n",
      "0      Go.                      Geh.\n",
      "1      Hi.                    Hallo!\n",
      "2      Hi.                Grüß Gott!\n",
      "3     Run!                     Lauf!\n",
      "4     Run.                     Lauf!\n",
      "5     Wow!               Potzdonner!\n",
      "6     Wow!             Donnerwetter!\n",
      "7    Fire!                    Feuer!\n",
      "8    Help!                    Hilfe!\n",
      "9    Help!                  Zu Hülf!\n",
      "10   Stop!                    Stopp!\n",
      "11   Wait!                    Warte!\n",
      "12   Wait.                    Warte.\n",
      "13  Begin.                  Fang an.\n",
      "14  Go on.              Mach weiter.\n",
      "15  Hello!                    Hallo!\n",
      "16  Hurry!               Beeil dich!\n",
      "17  Hurry!                  Schnell!\n",
      "18  I hid.      Ich versteckte mich.\n",
      "19  I hid.  Ich habe mich versteckt.\n"
     ]
    }
   ],
   "source": [
    "# Initialize lists to store German and English data\n",
    "# german_data = []\n",
    "# english_data = []\n",
    "\n",
    "# with open(german_file_path,'r',encoding='utf-8') as file:\n",
    "#     for line in file:\n",
    "#         english,german,_=line.strip().split('\\t')\n",
    "#         english_data.append(english)\n",
    "#         german_data.append(german)\n",
    "        \n",
    "\n",
    "# # Create a DataFrame using Pandas\n",
    "# df = pd.DataFrame({ 'English': english_data , 'German': german_data})\n",
    "\n",
    "# # Display the first few rows of the DataFrame\n",
    "# print(df[:20])        "
   ]
  },
  {
   "cell_type": "code",
   "execution_count": 4,
   "metadata": {},
   "outputs": [
    {
     "name": "stdout",
     "output_type": "stream",
     "text": [
      "  English     Spanish\n",
      "0     Go.         Ve.\n",
      "1     Go.       Vete.\n",
      "2     Go.       Vaya.\n",
      "3     Go.     Váyase.\n",
      "4     Hi.       Hola.\n",
      "5    Run!     ¡Corre!\n",
      "6    Run.     Corred.\n",
      "7    Who?     ¿Quién?\n",
      "8   Fire!     ¡Fuego!\n",
      "9   Fire!  ¡Incendio!\n"
     ]
    }
   ],
   "source": [
    "# df_spanish=pd.read_csv(spanish_file_path)\n",
    "\n",
    "# # renaming the names\n",
    "# new_column_names={'english':'English','spanish':'Spanish'}\n",
    "# df_spanish=df_spanish.rename(columns=new_column_names)\n",
    "\n",
    "# print(df_spanish[:10])"
   ]
  },
  {
   "cell_type": "code",
   "execution_count": 6,
   "metadata": {},
   "outputs": [
    {
     "name": "stdout",
     "output_type": "stream",
     "text": [
      "DataFrame saved successfully as data_german.csv\n"
     ]
    }
   ],
   "source": [
    "# file_name=f\"data_german.csv\"\n",
    "\n",
    "# df.to_csv(f\"Data_Sets/{file_name}\",index=False)\n",
    "# print(\"DataFrame saved successfully as\", file_name)"
   ]
  },
  {
   "cell_type": "code",
   "execution_count": 7,
   "metadata": {},
   "outputs": [
    {
     "name": "stdout",
     "output_type": "stream",
     "text": [
      "File renamed successfully to Data_Sets/data_spanish.csv\n"
     ]
    }
   ],
   "source": [
    "import os\n",
    "# current_file_path=\"Data_Sets/data.csv\"\n",
    "# new_file_path=\"Data_Sets/data_spanish.csv\"\n",
    "\n",
    "# os.rename(current_file_path,new_file_path)\n",
    "\n",
    "# print(\"File renamed successfully to\", new_file_path)"
   ]
  },
  {
   "cell_type": "code",
   "execution_count": 4,
   "metadata": {},
   "outputs": [],
   "source": [
    "import pandas as pd\n",
    "german_file_path=\"Data_Sets/data_german.csv\"\n",
    "spanish_file_path=\"Data_Sets/data_spanish.csv\""
   ]
  },
  {
   "cell_type": "code",
   "execution_count": 5,
   "metadata": {},
   "outputs": [],
   "source": [
    "df1=pd.read_csv(german_file_path)\n",
    "df2=pd.read_csv(spanish_file_path)"
   ]
  },
  {
   "cell_type": "code",
   "execution_count": 10,
   "metadata": {},
   "outputs": [],
   "source": [
    "import random\n",
    "import tensorflow as tf\n",
    "import string\n",
    "import re\n",
    "import csv\n",
    "from tensorflow import keras\n",
    "from tensorflow.keras import layers"
   ]
  },
  {
   "cell_type": "code",
   "execution_count": 12,
   "metadata": {},
   "outputs": [
    {
     "data": {
      "text/html": [
       "<div>\n",
       "<style scoped>\n",
       "    .dataframe tbody tr th:only-of-type {\n",
       "        vertical-align: middle;\n",
       "    }\n",
       "\n",
       "    .dataframe tbody tr th {\n",
       "        vertical-align: top;\n",
       "    }\n",
       "\n",
       "    .dataframe thead th {\n",
       "        text-align: right;\n",
       "    }\n",
       "</style>\n",
       "<table border=\"1\" class=\"dataframe\">\n",
       "  <thead>\n",
       "    <tr style=\"text-align: right;\">\n",
       "      <th></th>\n",
       "      <th>English</th>\n",
       "      <th>German</th>\n",
       "    </tr>\n",
       "  </thead>\n",
       "  <tbody>\n",
       "    <tr>\n",
       "      <th>0</th>\n",
       "      <td>Go.</td>\n",
       "      <td>Geh.</td>\n",
       "    </tr>\n",
       "    <tr>\n",
       "      <th>1</th>\n",
       "      <td>Hi.</td>\n",
       "      <td>Hallo!</td>\n",
       "    </tr>\n",
       "    <tr>\n",
       "      <th>2</th>\n",
       "      <td>Hi.</td>\n",
       "      <td>Grüß Gott!</td>\n",
       "    </tr>\n",
       "    <tr>\n",
       "      <th>3</th>\n",
       "      <td>Run!</td>\n",
       "      <td>Lauf!</td>\n",
       "    </tr>\n",
       "    <tr>\n",
       "      <th>4</th>\n",
       "      <td>Run.</td>\n",
       "      <td>Lauf!</td>\n",
       "    </tr>\n",
       "    <tr>\n",
       "      <th>5</th>\n",
       "      <td>Wow!</td>\n",
       "      <td>Potzdonner!</td>\n",
       "    </tr>\n",
       "    <tr>\n",
       "      <th>6</th>\n",
       "      <td>Wow!</td>\n",
       "      <td>Donnerwetter!</td>\n",
       "    </tr>\n",
       "    <tr>\n",
       "      <th>7</th>\n",
       "      <td>Fire!</td>\n",
       "      <td>Feuer!</td>\n",
       "    </tr>\n",
       "    <tr>\n",
       "      <th>8</th>\n",
       "      <td>Help!</td>\n",
       "      <td>Hilfe!</td>\n",
       "    </tr>\n",
       "    <tr>\n",
       "      <th>9</th>\n",
       "      <td>Help!</td>\n",
       "      <td>Zu Hülf!</td>\n",
       "    </tr>\n",
       "    <tr>\n",
       "      <th>10</th>\n",
       "      <td>Stop!</td>\n",
       "      <td>Stopp!</td>\n",
       "    </tr>\n",
       "    <tr>\n",
       "      <th>11</th>\n",
       "      <td>Wait!</td>\n",
       "      <td>Warte!</td>\n",
       "    </tr>\n",
       "    <tr>\n",
       "      <th>12</th>\n",
       "      <td>Wait.</td>\n",
       "      <td>Warte.</td>\n",
       "    </tr>\n",
       "    <tr>\n",
       "      <th>13</th>\n",
       "      <td>Begin.</td>\n",
       "      <td>Fang an.</td>\n",
       "    </tr>\n",
       "    <tr>\n",
       "      <th>14</th>\n",
       "      <td>Go on.</td>\n",
       "      <td>Mach weiter.</td>\n",
       "    </tr>\n",
       "    <tr>\n",
       "      <th>15</th>\n",
       "      <td>Hello!</td>\n",
       "      <td>Hallo!</td>\n",
       "    </tr>\n",
       "    <tr>\n",
       "      <th>16</th>\n",
       "      <td>Hurry!</td>\n",
       "      <td>Beeil dich!</td>\n",
       "    </tr>\n",
       "    <tr>\n",
       "      <th>17</th>\n",
       "      <td>Hurry!</td>\n",
       "      <td>Schnell!</td>\n",
       "    </tr>\n",
       "    <tr>\n",
       "      <th>18</th>\n",
       "      <td>I hid.</td>\n",
       "      <td>Ich versteckte mich.</td>\n",
       "    </tr>\n",
       "    <tr>\n",
       "      <th>19</th>\n",
       "      <td>I hid.</td>\n",
       "      <td>Ich habe mich versteckt.</td>\n",
       "    </tr>\n",
       "  </tbody>\n",
       "</table>\n",
       "</div>"
      ],
      "text/plain": [
       "   English                    German\n",
       "0      Go.                      Geh.\n",
       "1      Hi.                    Hallo!\n",
       "2      Hi.                Grüß Gott!\n",
       "3     Run!                     Lauf!\n",
       "4     Run.                     Lauf!\n",
       "5     Wow!               Potzdonner!\n",
       "6     Wow!             Donnerwetter!\n",
       "7    Fire!                    Feuer!\n",
       "8    Help!                    Hilfe!\n",
       "9    Help!                  Zu Hülf!\n",
       "10   Stop!                    Stopp!\n",
       "11   Wait!                    Warte!\n",
       "12   Wait.                    Warte.\n",
       "13  Begin.                  Fang an.\n",
       "14  Go on.              Mach weiter.\n",
       "15  Hello!                    Hallo!\n",
       "16  Hurry!               Beeil dich!\n",
       "17  Hurry!                  Schnell!\n",
       "18  I hid.      Ich versteckte mich.\n",
       "19  I hid.  Ich habe mich versteckt."
      ]
     },
     "execution_count": 12,
     "metadata": {},
     "output_type": "execute_result"
    }
   ],
   "source": [
    "df1.head(20)"
   ]
  },
  {
   "cell_type": "code",
   "execution_count": 18,
   "metadata": {},
   "outputs": [
    {
     "name": "stdout",
     "output_type": "stream",
     "text": [
      "As a prank, some students let three goats loose inside their school after painting the numbers 1, 2 and 4 on the sides of the goats. The teachers spent most of the day looking for goat number 3.\n",
      "The small crowd at Hiroshima Peace Memorial Park stood for a moment of silence at 8:15 a.m., the exact moment an atomic bomb nicknamed “Little Boy” was dropped from the U.S. warplane Enola Gay.\n",
      "In today's world, we have to equip all our kids with an education that prepares them for success, regardless of what they look like, or how much their parents make, or the zip code that they live in.\n",
      "Death is something that we're often discouraged to talk about or even think about, but I've realized that preparing for death is one of the most empowering things you can do. Thinking about death clarifies your life.\n",
      "At a moment when our economy is growing, our businesses are creating jobs at the fastest pace since the 1990s, and wages are starting to rise again, we have to make some choices about the kind of country we want to be.\n",
      "Even if some sentences by non-native speakers are good, it's really hard to trust that they are good, so members would be helping us much more by limiting their contributions to sentences in their own native languages.\n",
      "If someone who doesn't know your background says that you sound like a native speaker, it means they probably noticed something about your speaking that made them realize you weren't a native speaker. In other words, you don't really sound like a native speaker.\n",
      "If someone who doesn't know your background says that you sound like a native speaker, it means they probably noticed something about your speaking that made them realize you weren't a native speaker. In other words, you don't really sound like a native speaker.\n",
      "If someone who doesn't know your background says that you sound like a native speaker, it means they probably noticed something about your speaking that made them realize you weren't a native speaker. In other words, you don't really sound like a native speaker.\n",
      "Doubtless there exists in this world precisely the right woman for any given man to marry and vice versa; but when you consider that a human being has the opportunity of being acquainted with only a few hundred people, and out of the few hundred that there are but a dozen or less whom he knows intimately, and out of the dozen, one or two friends at most, it will easily be seen, when we remember the number of millions who inhabit this world, that probably, since the earth was created, the right man has never yet met the right woman.\n"
     ]
    }
   ],
   "source": [
    "first_column_values_last_10_rows=df1['English'].tail(10)\n",
    "\n",
    "\n",
    "paragraph = '\\n'.join(first_column_values_last_10_rows)\n",
    "# Print the paragraph\n",
    "print(paragraph)"
   ]
  },
  {
   "cell_type": "code",
   "execution_count": 19,
   "metadata": {},
   "outputs": [
    {
     "data": {
      "text/plain": [
       "221533"
      ]
     },
     "execution_count": 19,
     "metadata": {},
     "output_type": "execute_result"
    }
   ],
   "source": [
    "len(df1)"
   ]
  },
  {
   "cell_type": "markdown",
   "metadata": {},
   "source": [
    "# Split the English and german translation pairs"
   ]
  },
  {
   "cell_type": "code",
   "execution_count": 26,
   "metadata": {},
   "outputs": [],
   "source": [
    "#common function for both spanish and german\n",
    "\n",
    "class split_pairs:\n",
    " def split_pairs_method(self,df1): \n",
    "  text_pairs=[]\n",
    "  i=0\n",
    "  for i in range(len(df1)):\n",
    "    english,language=df1[\"English\"][i],df1[\"German\"][i]\n",
    "    german=\"[start] \"+language+\" [end]\"\n",
    "    text_pairs.append((english,language))\n",
    "\n",
    "  return text_pairs    \n"
   ]
  },
  {
   "cell_type": "code",
   "execution_count": 27,
   "metadata": {},
   "outputs": [],
   "source": [
    "#randomly selecting that if the above function work\n",
    "class random_pair_test:\n",
    "  def random_test_method(self,text_pairs): \n",
    "   for i in range(3):\n",
    "    print(random.choice(text_pairs))\n",
    "    "
   ]
  },
  {
   "cell_type": "code",
   "execution_count": 28,
   "metadata": {},
   "outputs": [
    {
     "name": "stdout",
     "output_type": "stream",
     "text": [
      "('Your guess is as good as mine.', 'Deine Vermutung ist so gut wie meine.')\n",
      "('Try on both these coats and compare them.', 'Probieren Sie beide Mäntel an und vergleichen Sie sie.')\n",
      "(\"I can't give you everything you want.\", 'Ich kann dir nicht alles geben, was du willst.')\n"
     ]
    }
   ],
   "source": [
    "#pairing for german text\n",
    "\n",
    "german_text_pairs=split_pairs().split_pairs_method(df1)\n",
    "\n",
    "random_pair_test().random_test_method(german_text_pairs)"
   ]
  },
  {
   "cell_type": "markdown",
   "metadata": {},
   "source": [
    "# Randomizing the data"
   ]
  },
  {
   "cell_type": "code",
   "execution_count": 29,
   "metadata": {},
   "outputs": [],
   "source": [
    "random.shuffle(german_text_pairs)"
   ]
  },
  {
   "cell_type": "markdown",
   "metadata": {},
   "source": [
    "# Split the data into training, validation,testing"
   ]
  },
  {
   "cell_type": "code",
   "execution_count": 32,
   "metadata": {},
   "outputs": [],
   "source": [
    "#class for splitting text pairs in to train,test,validation\n",
    "class splitting:\n",
    "    def splitting_method(self,text_pairs):\n",
    "        num_val_sample=int(0.15*len(text_pairs))\n",
    "        num_train_samples=len(text_pairs) - 2 * num_val_sample\n",
    "        train_pairs=text_pairs[:num_train_samples]\n",
    "        val_pairs=text_pairs[num_train_samples:num_train_samples+num_val_sample]\n",
    "        test_pairs=text_pairs[num_train_samples+num_val_sample:]\n",
    "        \n",
    "        print(\"Total Sentences: \",len(text_pairs))\n",
    "        print(\"Training set size: \",len(train_pairs))\n",
    "        print(\"Validation set size: \",len(val_pairs))\n",
    "        print(\"Testng set size: \",len(test_pairs))\n",
    "        return train_pairs,val_pairs,test_pairs    \n",
    "\n"
   ]
  },
  {
   "cell_type": "code",
   "execution_count": 33,
   "metadata": {},
   "outputs": [
    {
     "name": "stdout",
     "output_type": "stream",
     "text": [
      "Total Sentences:  221533\n",
      "Training set size:  155075\n",
      "Validation set size:  33229\n",
      "Testng set size:  33229\n"
     ]
    }
   ],
   "source": [
    "german_train_pairs,german_val_pairs,german_test_pairs=splitting().splitting_method(german_text_pairs)\n"
   ]
  },
  {
   "cell_type": "code",
   "execution_count": 35,
   "metadata": {},
   "outputs": [
    {
     "name": "stdout",
     "output_type": "stream",
     "text": [
      "221533\n"
     ]
    }
   ],
   "source": [
    "print(len(german_test_pairs)+len(german_train_pairs)+len(german_val_pairs))"
   ]
  },
  {
   "cell_type": "markdown",
   "metadata": {},
   "source": [
    "# Removing Puncuations"
   ]
  },
  {
   "cell_type": "code",
   "execution_count": null,
   "metadata": {},
   "outputs": [],
   "source": []
  }
 ],
 "metadata": {
  "kernelspec": {
   "display_name": "Python 3",
   "language": "python",
   "name": "python3"
  },
  "language_info": {
   "codemirror_mode": {
    "name": "ipython",
    "version": 3
   },
   "file_extension": ".py",
   "mimetype": "text/x-python",
   "name": "python",
   "nbconvert_exporter": "python",
   "pygments_lexer": "ipython3",
   "version": "3.12.0"
  }
 },
 "nbformat": 4,
 "nbformat_minor": 2
}
